{
 "cells": [
  {
   "cell_type": "code",
   "execution_count": null,
   "metadata": {
    "colab": {
     "base_uri": "https://localhost:8080/"
    },
    "executionInfo": {
     "elapsed": 120072,
     "status": "ok",
     "timestamp": 1741202268004,
     "user": {
      "displayName": "Yengfong Thao",
      "userId": "13613316813674662303"
     },
     "user_tz": 360
    },
    "id": "ssH8mHhw1YCU",
    "outputId": "839e4504-5865-4b7f-b135-c3a319b234f8"
   },
   "outputs": [
    {
     "name": "stdout",
     "output_type": "stream",
     "text": [
      "Drive already mounted at /content/drive; to attempt to forcibly remount, call drive.mount(\"/content/drive\", force_remount=True).\n"
     ]
    }
   ],
   "source": [
    "from google.colab import drive\n",
    "drive.mount('/content/drive')\n"
   ]
  },
  {
   "cell_type": "code",
   "execution_count": null,
   "metadata": {
    "colab": {
     "base_uri": "https://localhost:8080/"
    },
    "executionInfo": {
     "elapsed": 108,
     "status": "ok",
     "timestamp": 1741215903281,
     "user": {
      "displayName": "Yengfong Thao",
      "userId": "13613316813674662303"
     },
     "user_tz": 360
    },
    "id": "6EBpbfM11lzt",
    "outputId": "f5e5ca5a-bfdf-48ea-8936-4f8b89443d23"
   },
   "outputs": [
    {
     "name": "stdout",
     "output_type": "stream",
     "text": [
      "data\t  discriminator.py  load_data.py  README.md\n",
      "dcgan.py  generator.py\t    __pycache__   train_dcgan.py\n"
     ]
    }
   ],
   "source": [
    "!ls /content/drive/MyDrive/GAN/dcgan/\n"
   ]
  },
  {
   "cell_type": "code",
   "execution_count": null,
   "metadata": {
    "id": "jEbpFnf62rVp"
   },
   "outputs": [],
   "source": [
    "!cp -r /content/drive/MyDrive/GAN/dcgan /content/\n"
   ]
  },
  {
   "cell_type": "code",
   "execution_count": null,
   "metadata": {
    "colab": {
     "base_uri": "https://localhost:8080/"
    },
    "executionInfo": {
     "elapsed": 110,
     "status": "ok",
     "timestamp": 1741217758674,
     "user": {
      "displayName": "Yengfong Thao",
      "userId": "13613316813674662303"
     },
     "user_tz": 360
    },
    "id": "fGNyUIIJ2yU-",
    "outputId": "1a5cd346-197a-4e90-f52a-8806064b15fb"
   },
   "outputs": [
    {
     "name": "stdout",
     "output_type": "stream",
     "text": [
      "base  dcgan.py\t\tgenerated_images  load_data.py\t__pycache__  train_dcgan.py\n",
      "data  discriminator.py\tgenerator.py\t  logs\t\tREADME.md\n"
     ]
    }
   ],
   "source": [
    "!ls /content/dcgan/\n"
   ]
  },
  {
   "cell_type": "code",
   "execution_count": null,
   "metadata": {
    "colab": {
     "base_uri": "https://localhost:8080/"
    },
    "executionInfo": {
     "elapsed": 5620,
     "status": "ok",
     "timestamp": 1741231410388,
     "user": {
      "displayName": "Yengfong Thao",
      "userId": "13613316813674662303"
     },
     "user_tz": 360
    },
    "id": "o-TJFxjB7Kmc",
    "outputId": "12738873-428c-4eec-cd3a-b4997d1f6d36"
   },
   "outputs": [
    {
     "name": "stdout",
     "output_type": "stream",
     "text": [
      "2025-03-06 03:23:25.384862: E external/local_xla/xla/stream_executor/cuda/cuda_fft.cc:477] Unable to register cuFFT factory: Attempting to register factory for plugin cuFFT when one has already been registered\n",
      "WARNING: All log messages before absl::InitializeLog() is called are written to STDERR\n",
      "E0000 00:00:1741231405.417936  130327 cuda_dnn.cc:8310] Unable to register cuDNN factory: Attempting to register factory for plugin cuDNN when one has already been registered\n",
      "E0000 00:00:1741231405.428254  130327 cuda_blas.cc:1418] Unable to register cuBLAS factory: Attempting to register factory for plugin cuBLAS when one has already been registered\n",
      " Dataset loaded. Shape: (60000, 28, 28, 1)\n"
     ]
    }
   ],
   "source": [
    "!python /content/dcgan/load_data.py\n"
   ]
  },
  {
   "cell_type": "code",
   "execution_count": null,
   "metadata": {
    "colab": {
     "base_uri": "https://localhost:8080/"
    },
    "executionInfo": {
     "elapsed": 6553,
     "status": "ok",
     "timestamp": 1741231419926,
     "user": {
      "displayName": "Yengfong Thao",
      "userId": "13613316813674662303"
     },
     "user_tz": 360
    },
    "id": "kQwBc5i474Im",
    "outputId": "025817c1-3ce3-4e86-a553-f3522e28019b"
   },
   "outputs": [
    {
     "name": "stdout",
     "output_type": "stream",
     "text": [
      "2025-03-06 03:23:33.701148: E external/local_xla/xla/stream_executor/cuda/cuda_fft.cc:477] Unable to register cuFFT factory: Attempting to register factory for plugin cuFFT when one has already been registered\n",
      "WARNING: All log messages before absl::InitializeLog() is called are written to STDERR\n",
      "E0000 00:00:1741231413.719883  130371 cuda_dnn.cc:8310] Unable to register cuDNN factory: Attempting to register factory for plugin cuDNN when one has already been registered\n",
      "E0000 00:00:1741231413.725289  130371 cuda_blas.cc:1418] Unable to register cuBLAS factory: Attempting to register factory for plugin cuBLAS when one has already been registered\n",
      "/usr/local/lib/python3.11/dist-packages/keras/src/layers/core/dense.py:87: UserWarning: Do not pass an `input_shape`/`input_dim` argument to a layer. When using Sequential models, prefer using an `Input(shape)` object as the first layer in the model instead.\n",
      "  super().__init__(activity_regularizer=activity_regularizer, **kwargs)\n",
      "2025-03-06 03:23:37.271985: W tensorflow/core/common_runtime/gpu/gpu_bfc_allocator.cc:47] Overriding orig_value setting because the TF_FORCE_GPU_ALLOW_GROWTH environment variable is set. Original config value was 0.\n",
      "I0000 00:00:1741231417.272190  130371 gpu_device.cc:2022] Created device /job:localhost/replica:0/task:0/device:GPU:0 with 13806 MB memory:  -> device: 0, name: Tesla T4, pci bus id: 0000:00:04.0, compute capability: 7.5\n",
      "/usr/local/lib/python3.11/dist-packages/keras/src/layers/activations/leaky_relu.py:41: UserWarning: Argument `alpha` is deprecated. Use `negative_slope` instead.\n",
      "  warnings.warn(\n",
      "\u001b[1mModel: \"sequential\"\u001b[0m\n",
      "┏━━━━━━━━━━━━━━━━━━━━━━━━━━━━━━━━━━━━━━┳━━━━━━━━━━━━━━━━━━━━━━━━━━━━━┳━━━━━━━━━━━━━━━━━┓\n",
      "┃\u001b[1m \u001b[0m\u001b[1mLayer (type)                        \u001b[0m\u001b[1m \u001b[0m┃\u001b[1m \u001b[0m\u001b[1mOutput Shape               \u001b[0m\u001b[1m \u001b[0m┃\u001b[1m \u001b[0m\u001b[1m        Param #\u001b[0m\u001b[1m \u001b[0m┃\n",
      "┡━━━━━━━━━━━━━━━━━━━━━━━━━━━━━━━━━━━━━━╇━━━━━━━━━━━━━━━━━━━━━━━━━━━━━╇━━━━━━━━━━━━━━━━━┩\n",
      "│ dense (\u001b[94mDense\u001b[0m)                        │ (\u001b[96mNone\u001b[0m, \u001b[32m12544\u001b[0m)               │       \u001b[32m1,254,400\u001b[0m │\n",
      "├──────────────────────────────────────┼─────────────────────────────┼─────────────────┤\n",
      "│ batch_normalization                  │ (\u001b[96mNone\u001b[0m, \u001b[32m12544\u001b[0m)               │          \u001b[32m50,176\u001b[0m │\n",
      "│ (\u001b[94mBatchNormalization\u001b[0m)                 │                             │                 │\n",
      "├──────────────────────────────────────┼─────────────────────────────┼─────────────────┤\n",
      "│ leaky_re_lu (\u001b[94mLeakyReLU\u001b[0m)              │ (\u001b[96mNone\u001b[0m, \u001b[32m12544\u001b[0m)               │               \u001b[32m0\u001b[0m │\n",
      "├──────────────────────────────────────┼─────────────────────────────┼─────────────────┤\n",
      "│ reshape (\u001b[94mReshape\u001b[0m)                    │ (\u001b[96mNone\u001b[0m, \u001b[32m7\u001b[0m, \u001b[32m7\u001b[0m, \u001b[32m256\u001b[0m)           │               \u001b[32m0\u001b[0m │\n",
      "├──────────────────────────────────────┼─────────────────────────────┼─────────────────┤\n",
      "│ conv2d_transpose (\u001b[94mConv2DTranspose\u001b[0m)   │ (\u001b[96mNone\u001b[0m, \u001b[32m14\u001b[0m, \u001b[32m14\u001b[0m, \u001b[32m128\u001b[0m)         │         \u001b[32m524,288\u001b[0m │\n",
      "├──────────────────────────────────────┼─────────────────────────────┼─────────────────┤\n",
      "│ batch_normalization_1                │ (\u001b[96mNone\u001b[0m, \u001b[32m14\u001b[0m, \u001b[32m14\u001b[0m, \u001b[32m128\u001b[0m)         │             \u001b[32m512\u001b[0m │\n",
      "│ (\u001b[94mBatchNormalization\u001b[0m)                 │                             │                 │\n",
      "├──────────────────────────────────────┼─────────────────────────────┼─────────────────┤\n",
      "│ leaky_re_lu_1 (\u001b[94mLeakyReLU\u001b[0m)            │ (\u001b[96mNone\u001b[0m, \u001b[32m14\u001b[0m, \u001b[32m14\u001b[0m, \u001b[32m128\u001b[0m)         │               \u001b[32m0\u001b[0m │\n",
      "├──────────────────────────────────────┼─────────────────────────────┼─────────────────┤\n",
      "│ conv2d_transpose_1 (\u001b[94mConv2DTranspose\u001b[0m) │ (\u001b[96mNone\u001b[0m, \u001b[32m28\u001b[0m, \u001b[32m28\u001b[0m, \u001b[32m64\u001b[0m)          │         \u001b[32m131,072\u001b[0m │\n",
      "├──────────────────────────────────────┼─────────────────────────────┼─────────────────┤\n",
      "│ batch_normalization_2                │ (\u001b[96mNone\u001b[0m, \u001b[32m28\u001b[0m, \u001b[32m28\u001b[0m, \u001b[32m64\u001b[0m)          │             \u001b[32m256\u001b[0m │\n",
      "│ (\u001b[94mBatchNormalization\u001b[0m)                 │                             │                 │\n",
      "├──────────────────────────────────────┼─────────────────────────────┼─────────────────┤\n",
      "│ leaky_re_lu_2 (\u001b[94mLeakyReLU\u001b[0m)            │ (\u001b[96mNone\u001b[0m, \u001b[32m28\u001b[0m, \u001b[32m28\u001b[0m, \u001b[32m64\u001b[0m)          │               \u001b[32m0\u001b[0m │\n",
      "├──────────────────────────────────────┼─────────────────────────────┼─────────────────┤\n",
      "│ conv2d_transpose_2 (\u001b[94mConv2DTranspose\u001b[0m) │ (\u001b[96mNone\u001b[0m, \u001b[32m28\u001b[0m, \u001b[32m28\u001b[0m, \u001b[32m1\u001b[0m)           │           \u001b[32m1,024\u001b[0m │\n",
      "└──────────────────────────────────────┴─────────────────────────────┴─────────────────┘\n",
      "\u001b[1m Total params: \u001b[0m\u001b[32m1,961,728\u001b[0m (7.48 MB)\n",
      "\u001b[1m Trainable params: \u001b[0m\u001b[32m1,936,256\u001b[0m (7.39 MB)\n",
      "\u001b[1m Non-trainable params: \u001b[0m\u001b[32m25,472\u001b[0m (99.50 KB)\n"
     ]
    }
   ],
   "source": [
    "!python /content/dcgan/generator.py\n"
   ]
  },
  {
   "cell_type": "code",
   "execution_count": null,
   "metadata": {
    "colab": {
     "base_uri": "https://localhost:8080/"
    },
    "executionInfo": {
     "elapsed": 5422,
     "status": "ok",
     "timestamp": 1741217767529,
     "user": {
      "displayName": "Yengfong Thao",
      "userId": "13613316813674662303"
     },
     "user_tz": 360
    },
    "id": "CkYfskFh8GHt",
    "outputId": "326c140e-b09b-4cbe-acdc-7b7377513b8e"
   },
   "outputs": [
    {
     "name": "stdout",
     "output_type": "stream",
     "text": [
      "2025-03-05 23:36:00.707519: E external/local_xla/xla/stream_executor/cuda/cuda_fft.cc:477] Unable to register cuFFT factory: Attempting to register factory for plugin cuFFT when one has already been registered\n",
      "WARNING: All log messages before absl::InitializeLog() is called are written to STDERR\n",
      "E0000 00:00:1741217760.725615   69585 cuda_dnn.cc:8310] Unable to register cuDNN factory: Attempting to register factory for plugin cuDNN when one has already been registered\n",
      "E0000 00:00:1741217760.731545   69585 cuda_blas.cc:1418] Unable to register cuBLAS factory: Attempting to register factory for plugin cuBLAS when one has already been registered\n",
      "/usr/local/lib/python3.11/dist-packages/keras/src/layers/convolutional/base_conv.py:107: UserWarning: Do not pass an `input_shape`/`input_dim` argument to a layer. When using Sequential models, prefer using an `Input(shape)` object as the first layer in the model instead.\n",
      "  super().__init__(activity_regularizer=activity_regularizer, **kwargs)\n",
      "2025-03-05 23:36:04.185186: W tensorflow/core/common_runtime/gpu/gpu_bfc_allocator.cc:47] Overriding orig_value setting because the TF_FORCE_GPU_ALLOW_GROWTH environment variable is set. Original config value was 0.\n",
      "I0000 00:00:1741217764.185378   69585 gpu_device.cc:2022] Created device /job:localhost/replica:0/task:0/device:GPU:0 with 13942 MB memory:  -> device: 0, name: Tesla T4, pci bus id: 0000:00:04.0, compute capability: 7.5\n",
      "/usr/local/lib/python3.11/dist-packages/keras/src/layers/activations/leaky_relu.py:41: UserWarning: Argument `alpha` is deprecated. Use `negative_slope` instead.\n",
      "  warnings.warn(\n",
      "\u001b[1mModel: \"sequential\"\u001b[0m\n",
      "┏━━━━━━━━━━━━━━━━━━━━━━━━━━━━━━━━━━━━━━┳━━━━━━━━━━━━━━━━━━━━━━━━━━━━━┳━━━━━━━━━━━━━━━━━┓\n",
      "┃\u001b[1m \u001b[0m\u001b[1mLayer (type)                        \u001b[0m\u001b[1m \u001b[0m┃\u001b[1m \u001b[0m\u001b[1mOutput Shape               \u001b[0m\u001b[1m \u001b[0m┃\u001b[1m \u001b[0m\u001b[1m        Param #\u001b[0m\u001b[1m \u001b[0m┃\n",
      "┡━━━━━━━━━━━━━━━━━━━━━━━━━━━━━━━━━━━━━━╇━━━━━━━━━━━━━━━━━━━━━━━━━━━━━╇━━━━━━━━━━━━━━━━━┩\n",
      "│ conv2d (\u001b[94mConv2D\u001b[0m)                      │ (\u001b[96mNone\u001b[0m, \u001b[32m14\u001b[0m, \u001b[32m14\u001b[0m, \u001b[32m64\u001b[0m)          │           \u001b[32m1,088\u001b[0m │\n",
      "├──────────────────────────────────────┼─────────────────────────────┼─────────────────┤\n",
      "│ leaky_re_lu (\u001b[94mLeakyReLU\u001b[0m)              │ (\u001b[96mNone\u001b[0m, \u001b[32m14\u001b[0m, \u001b[32m14\u001b[0m, \u001b[32m64\u001b[0m)          │               \u001b[32m0\u001b[0m │\n",
      "├──────────────────────────────────────┼─────────────────────────────┼─────────────────┤\n",
      "│ dropout (\u001b[94mDropout\u001b[0m)                    │ (\u001b[96mNone\u001b[0m, \u001b[32m14\u001b[0m, \u001b[32m14\u001b[0m, \u001b[32m64\u001b[0m)          │               \u001b[32m0\u001b[0m │\n",
      "├──────────────────────────────────────┼─────────────────────────────┼─────────────────┤\n",
      "│ conv2d_1 (\u001b[94mConv2D\u001b[0m)                    │ (\u001b[96mNone\u001b[0m, \u001b[32m7\u001b[0m, \u001b[32m7\u001b[0m, \u001b[32m128\u001b[0m)           │         \u001b[32m131,200\u001b[0m │\n",
      "├──────────────────────────────────────┼─────────────────────────────┼─────────────────┤\n",
      "│ leaky_re_lu_1 (\u001b[94mLeakyReLU\u001b[0m)            │ (\u001b[96mNone\u001b[0m, \u001b[32m7\u001b[0m, \u001b[32m7\u001b[0m, \u001b[32m128\u001b[0m)           │               \u001b[32m0\u001b[0m │\n",
      "├──────────────────────────────────────┼─────────────────────────────┼─────────────────┤\n",
      "│ dropout_1 (\u001b[94mDropout\u001b[0m)                  │ (\u001b[96mNone\u001b[0m, \u001b[32m7\u001b[0m, \u001b[32m7\u001b[0m, \u001b[32m128\u001b[0m)           │               \u001b[32m0\u001b[0m │\n",
      "├──────────────────────────────────────┼─────────────────────────────┼─────────────────┤\n",
      "│ flatten (\u001b[94mFlatten\u001b[0m)                    │ (\u001b[96mNone\u001b[0m, \u001b[32m6272\u001b[0m)                │               \u001b[32m0\u001b[0m │\n",
      "├──────────────────────────────────────┼─────────────────────────────┼─────────────────┤\n",
      "│ dense (\u001b[94mDense\u001b[0m)                        │ (\u001b[96mNone\u001b[0m, \u001b[32m1\u001b[0m)                   │           \u001b[32m6,273\u001b[0m │\n",
      "└──────────────────────────────────────┴─────────────────────────────┴─────────────────┘\n",
      "\u001b[1m Total params: \u001b[0m\u001b[32m138,561\u001b[0m (541.25 KB)\n",
      "\u001b[1m Trainable params: \u001b[0m\u001b[32m138,561\u001b[0m (541.25 KB)\n",
      "\u001b[1m Non-trainable params: \u001b[0m\u001b[32m0\u001b[0m (0.00 B)\n"
     ]
    }
   ],
   "source": [
    "!python /content/dcgan/discriminator.py"
   ]
  },
  {
   "cell_type": "code",
   "execution_count": null,
   "metadata": {
    "colab": {
     "base_uri": "https://localhost:8080/"
    },
    "executionInfo": {
     "elapsed": 6311,
     "status": "ok",
     "timestamp": 1741217776456,
     "user": {
      "displayName": "Yengfong Thao",
      "userId": "13613316813674662303"
     },
     "user_tz": 360
    },
    "id": "NDTEAGZK8OSt",
    "outputId": "913e2b57-4b2a-4aa4-a4ee-2ffa1e32fe63"
   },
   "outputs": [
    {
     "name": "stdout",
     "output_type": "stream",
     "text": [
      "2025-03-05 23:36:08.873687: E external/local_xla/xla/stream_executor/cuda/cuda_fft.cc:477] Unable to register cuFFT factory: Attempting to register factory for plugin cuFFT when one has already been registered\n",
      "WARNING: All log messages before absl::InitializeLog() is called are written to STDERR\n",
      "E0000 00:00:1741217768.904735   69652 cuda_dnn.cc:8310] Unable to register cuDNN factory: Attempting to register factory for plugin cuDNN when one has already been registered\n",
      "E0000 00:00:1741217768.914101   69652 cuda_blas.cc:1418] Unable to register cuBLAS factory: Attempting to register factory for plugin cuBLAS when one has already been registered\n",
      "/usr/local/lib/python3.11/dist-packages/keras/src/layers/core/dense.py:87: UserWarning: Do not pass an `input_shape`/`input_dim` argument to a layer. When using Sequential models, prefer using an `Input(shape)` object as the first layer in the model instead.\n",
      "  super().__init__(activity_regularizer=activity_regularizer, **kwargs)\n",
      "2025-03-05 23:36:12.904076: W tensorflow/core/common_runtime/gpu/gpu_bfc_allocator.cc:47] Overriding orig_value setting because the TF_FORCE_GPU_ALLOW_GROWTH environment variable is set. Original config value was 0.\n",
      "I0000 00:00:1741217772.904243   69652 gpu_device.cc:2022] Created device /job:localhost/replica:0/task:0/device:GPU:0 with 13942 MB memory:  -> device: 0, name: Tesla T4, pci bus id: 0000:00:04.0, compute capability: 7.5\n",
      "/usr/local/lib/python3.11/dist-packages/keras/src/layers/activations/leaky_relu.py:41: UserWarning: Argument `alpha` is deprecated. Use `negative_slope` instead.\n",
      "  warnings.warn(\n",
      "/usr/local/lib/python3.11/dist-packages/keras/src/layers/convolutional/base_conv.py:107: UserWarning: Do not pass an `input_shape`/`input_dim` argument to a layer. When using Sequential models, prefer using an `Input(shape)` object as the first layer in the model instead.\n",
      "  super().__init__(activity_regularizer=activity_regularizer, **kwargs)\n",
      "\u001b[1mModel: \"sequential_2\"\u001b[0m\n",
      "┏━━━━━━━━━━━━━━━━━━━━━━━━━━━━━━━━━━━━━━┳━━━━━━━━━━━━━━━━━━━━━━━━━━━━━┳━━━━━━━━━━━━━━━━━┓\n",
      "┃\u001b[1m \u001b[0m\u001b[1mLayer (type)                        \u001b[0m\u001b[1m \u001b[0m┃\u001b[1m \u001b[0m\u001b[1mOutput Shape               \u001b[0m\u001b[1m \u001b[0m┃\u001b[1m \u001b[0m\u001b[1m        Param #\u001b[0m\u001b[1m \u001b[0m┃\n",
      "┡━━━━━━━━━━━━━━━━━━━━━━━━━━━━━━━━━━━━━━╇━━━━━━━━━━━━━━━━━━━━━━━━━━━━━╇━━━━━━━━━━━━━━━━━┩\n",
      "│ sequential (\u001b[94mSequential\u001b[0m)              │ (\u001b[96mNone\u001b[0m, \u001b[32m28\u001b[0m, \u001b[32m28\u001b[0m, \u001b[32m1\u001b[0m)           │       \u001b[32m1,961,728\u001b[0m │\n",
      "├──────────────────────────────────────┼─────────────────────────────┼─────────────────┤\n",
      "│ sequential_1 (\u001b[94mSequential\u001b[0m)            │ (\u001b[96mNone\u001b[0m, \u001b[32m1\u001b[0m)                   │         \u001b[32m138,561\u001b[0m │\n",
      "└──────────────────────────────────────┴─────────────────────────────┴─────────────────┘\n",
      "\u001b[1m Total params: \u001b[0m\u001b[32m2,100,289\u001b[0m (8.01 MB)\n",
      "\u001b[1m Trainable params: \u001b[0m\u001b[32m1,936,256\u001b[0m (7.39 MB)\n",
      "\u001b[1m Non-trainable params: \u001b[0m\u001b[32m164,033\u001b[0m (640.75 KB)\n"
     ]
    }
   ],
   "source": [
    "!python /content/dcgan/dcgan.py\n"
   ]
  },
  {
   "cell_type": "code",
   "execution_count": null,
   "metadata": {
    "colab": {
     "base_uri": "https://localhost:8080/"
    },
    "executionInfo": {
     "elapsed": 1787717,
     "status": "ok",
     "timestamp": 1741220666921,
     "user": {
      "displayName": "Yengfong Thao",
      "userId": "13613316813674662303"
     },
     "user_tz": 360
    },
    "id": "hYLkh9278Sds",
    "outputId": "9497be23-fefe-4cfe-e92b-c2e4ec4d44e5"
   },
   "outputs": [
    {
     "name": "stdout",
     "output_type": "stream",
     "text": [
      "2025-03-05 23:36:17.453126: E external/local_xla/xla/stream_executor/cuda/cuda_fft.cc:477] Unable to register cuFFT factory: Attempting to register factory for plugin cuFFT when one has already been registered\n",
      "WARNING: All log messages before absl::InitializeLog() is called are written to STDERR\n",
      "E0000 00:00:1741217777.471835   69720 cuda_dnn.cc:8310] Unable to register cuDNN factory: Attempting to register factory for plugin cuDNN when one has already been registered\n",
      "E0000 00:00:1741217777.477153   69720 cuda_blas.cc:1418] Unable to register cuBLAS factory: Attempting to register factory for plugin cuBLAS when one has already been registered\n",
      "✅ Dataset loaded. Shape: (60000, 28, 28, 1)\n",
      "2025-03-05 23:36:21.740170: W tensorflow/core/common_runtime/gpu/gpu_bfc_allocator.cc:47] Overriding orig_value setting because the TF_FORCE_GPU_ALLOW_GROWTH environment variable is set. Original config value was 0.\n",
      "I0000 00:00:1741217781.740391   69720 gpu_device.cc:2022] Created device /job:localhost/replica:0/task:0/device:GPU:0 with 13942 MB memory:  -> device: 0, name: Tesla T4, pci bus id: 0000:00:04.0, compute capability: 7.5\n",
      "2025-03-05 23:36:21.741420: W external/local_xla/xla/tsl/framework/cpu_allocator_impl.cc:83] Allocation of 376320000 exceeds 10% of free system memory.\n",
      "2025-03-05 23:36:22.223661: W external/local_xla/xla/tsl/framework/cpu_allocator_impl.cc:83] Allocation of 376320000 exceeds 10% of free system memory.\n",
      "/usr/local/lib/python3.11/dist-packages/keras/src/layers/core/dense.py:87: UserWarning: Do not pass an `input_shape`/`input_dim` argument to a layer. When using Sequential models, prefer using an `Input(shape)` object as the first layer in the model instead.\n",
      "  super().__init__(activity_regularizer=activity_regularizer, **kwargs)\n",
      "/usr/local/lib/python3.11/dist-packages/keras/src/layers/activations/leaky_relu.py:41: UserWarning: Argument `alpha` is deprecated. Use `negative_slope` instead.\n",
      "  warnings.warn(\n",
      "/usr/local/lib/python3.11/dist-packages/keras/src/layers/convolutional/base_conv.py:107: UserWarning: Do not pass an `input_shape`/`input_dim` argument to a layer. When using Sequential models, prefer using an `Input(shape)` object as the first layer in the model instead.\n",
      "  super().__init__(activity_regularizer=activity_regularizer, **kwargs)\n",
      "2025-03-05 23:36:24.146676: W external/local_xla/xla/tsl/framework/cpu_allocator_impl.cc:83] Allocation of 376320000 exceeds 10% of free system memory.\n",
      "E0000 00:00:1741217786.565005   69720 meta_optimizer.cc:966] layout failed: INVALID_ARGUMENT: Size of values 0 does not match size of permutation 4 @ fanin shape insequential_1_2/dropout_1/stateless_dropout/SelectV2-2-TransposeNHWCToNCHW-LayoutOptimizer\n",
      "I0000 00:00:1741217786.784370   69758 cuda_dnn.cc:529] Loaded cuDNN version 90300\n",
      "Epoch 1/200 - Gen Loss: 0.6542, Disc Loss: 1.4126\n",
      "Epoch 2/200 - Gen Loss: 0.6892, Disc Loss: 1.3822\n",
      "Epoch 3/200 - Gen Loss: 0.6944, Disc Loss: 1.3756\n",
      "Epoch 4/200 - Gen Loss: 0.6724, Disc Loss: 1.3531\n",
      "Epoch 5/200 - Gen Loss: 0.6482, Disc Loss: 1.3890\n",
      "Epoch 6/200 - Gen Loss: 0.6719, Disc Loss: 1.3561\n",
      "Epoch 7/200 - Gen Loss: 0.6845, Disc Loss: 1.3548\n",
      "Epoch 8/200 - Gen Loss: 0.7238, Disc Loss: 1.3565\n",
      "Epoch 9/200 - Gen Loss: 0.6659, Disc Loss: 1.3568\n",
      "Epoch 10/200 - Gen Loss: 0.7361, Disc Loss: 1.3421\n",
      "Saved /content/dcgan/generated_images//epoch_10.png\n",
      "Epoch 11/200 - Gen Loss: 0.6993, Disc Loss: 1.3396\n",
      "Epoch 12/200 - Gen Loss: 0.7786, Disc Loss: 1.3555\n",
      "Epoch 13/200 - Gen Loss: 0.7049, Disc Loss: 1.2886\n",
      "Epoch 14/200 - Gen Loss: 0.7008, Disc Loss: 1.3451\n",
      "Epoch 15/200 - Gen Loss: 0.7271, Disc Loss: 1.3541\n",
      "Epoch 16/200 - Gen Loss: 0.6569, Disc Loss: 1.3823\n",
      "Epoch 17/200 - Gen Loss: 0.7238, Disc Loss: 1.3611\n",
      "Epoch 18/200 - Gen Loss: 0.6982, Disc Loss: 1.3708\n",
      "Epoch 19/200 - Gen Loss: 0.7129, Disc Loss: 1.3353\n",
      "Epoch 20/200 - Gen Loss: 0.7564, Disc Loss: 1.3742\n",
      "Saved /content/dcgan/generated_images//epoch_20.png\n",
      "Epoch 21/200 - Gen Loss: 0.7330, Disc Loss: 1.3740\n",
      "Epoch 22/200 - Gen Loss: 0.6931, Disc Loss: 1.3432\n",
      "Epoch 23/200 - Gen Loss: 0.6445, Disc Loss: 1.3753\n",
      "Epoch 24/200 - Gen Loss: 0.8410, Disc Loss: 1.3667\n",
      "Epoch 25/200 - Gen Loss: 0.6804, Disc Loss: 1.3823\n",
      "Epoch 26/200 - Gen Loss: 0.7422, Disc Loss: 1.3842\n",
      "Epoch 27/200 - Gen Loss: 0.7153, Disc Loss: 1.3654\n",
      "Epoch 28/200 - Gen Loss: 0.6780, Disc Loss: 1.3687\n",
      "Epoch 29/200 - Gen Loss: 0.7041, Disc Loss: 1.3226\n",
      "Epoch 30/200 - Gen Loss: 0.7954, Disc Loss: 1.4176\n",
      "Saved /content/dcgan/generated_images//epoch_30.png\n",
      "Epoch 31/200 - Gen Loss: 0.7865, Disc Loss: 1.3685\n",
      "Epoch 32/200 - Gen Loss: 0.7398, Disc Loss: 1.3509\n",
      "Epoch 33/200 - Gen Loss: 0.7174, Disc Loss: 1.3453\n",
      "Epoch 34/200 - Gen Loss: 0.6772, Disc Loss: 1.3877\n",
      "Epoch 35/200 - Gen Loss: 0.8281, Disc Loss: 1.3348\n",
      "Epoch 36/200 - Gen Loss: 0.7597, Disc Loss: 1.3742\n",
      "Epoch 37/200 - Gen Loss: 0.7068, Disc Loss: 1.3687\n",
      "Epoch 38/200 - Gen Loss: 0.7162, Disc Loss: 1.2971\n",
      "Epoch 39/200 - Gen Loss: 0.6412, Disc Loss: 1.4013\n",
      "Epoch 40/200 - Gen Loss: 0.7839, Disc Loss: 1.4156\n",
      "Saved /content/dcgan/generated_images//epoch_40.png\n",
      "Epoch 41/200 - Gen Loss: 0.6783, Disc Loss: 1.3470\n",
      "Epoch 42/200 - Gen Loss: 0.7255, Disc Loss: 1.3536\n",
      "Epoch 43/200 - Gen Loss: 0.8064, Disc Loss: 1.3750\n",
      "Epoch 44/200 - Gen Loss: 0.6452, Disc Loss: 1.3945\n",
      "Epoch 45/200 - Gen Loss: 0.7488, Disc Loss: 1.3309\n",
      "Epoch 46/200 - Gen Loss: 0.7864, Disc Loss: 1.3382\n",
      "Epoch 47/200 - Gen Loss: 0.6827, Disc Loss: 1.3439\n",
      "Epoch 48/200 - Gen Loss: 0.7670, Disc Loss: 1.3815\n",
      "Epoch 49/200 - Gen Loss: 0.6696, Disc Loss: 1.3571\n",
      "Epoch 50/200 - Gen Loss: 0.7838, Disc Loss: 1.3209\n",
      "Saved /content/dcgan/generated_images//epoch_50.png\n",
      "Epoch 51/200 - Gen Loss: 0.6690, Disc Loss: 1.3305\n",
      "Epoch 52/200 - Gen Loss: 0.7519, Disc Loss: 1.3965\n",
      "Epoch 53/200 - Gen Loss: 0.6812, Disc Loss: 1.3791\n",
      "Epoch 54/200 - Gen Loss: 0.7298, Disc Loss: 1.3714\n",
      "Epoch 55/200 - Gen Loss: 0.7086, Disc Loss: 1.3534\n",
      "Epoch 56/200 - Gen Loss: 0.6584, Disc Loss: 1.3539\n",
      "Epoch 57/200 - Gen Loss: 0.8259, Disc Loss: 1.3753\n",
      "Epoch 58/200 - Gen Loss: 0.7028, Disc Loss: 1.3498\n",
      "Epoch 59/200 - Gen Loss: 0.6804, Disc Loss: 1.3689\n",
      "Epoch 60/200 - Gen Loss: 0.7256, Disc Loss: 1.3788\n",
      "Saved /content/dcgan/generated_images//epoch_60.png\n",
      "Epoch 61/200 - Gen Loss: 0.7618, Disc Loss: 1.3798\n",
      "Epoch 62/200 - Gen Loss: 0.8059, Disc Loss: 1.4004\n",
      "Epoch 63/200 - Gen Loss: 0.6569, Disc Loss: 1.3243\n",
      "Epoch 64/200 - Gen Loss: 0.7647, Disc Loss: 1.3513\n",
      "Epoch 65/200 - Gen Loss: 0.7975, Disc Loss: 1.3434\n",
      "Epoch 66/200 - Gen Loss: 0.6857, Disc Loss: 1.3675\n",
      "Epoch 67/200 - Gen Loss: 0.7394, Disc Loss: 1.3670\n",
      "Epoch 68/200 - Gen Loss: 0.7839, Disc Loss: 1.3677\n",
      "Epoch 69/200 - Gen Loss: 0.7117, Disc Loss: 1.3412\n",
      "Epoch 70/200 - Gen Loss: 0.7061, Disc Loss: 1.3711\n",
      "Saved /content/dcgan/generated_images//epoch_70.png\n",
      "Epoch 71/200 - Gen Loss: 0.7150, Disc Loss: 1.3578\n",
      "Epoch 72/200 - Gen Loss: 0.7388, Disc Loss: 1.3536\n",
      "Epoch 73/200 - Gen Loss: 0.7395, Disc Loss: 1.3646\n",
      "Epoch 74/200 - Gen Loss: 0.7117, Disc Loss: 1.3534\n",
      "Epoch 75/200 - Gen Loss: 0.7323, Disc Loss: 1.3768\n",
      "Epoch 76/200 - Gen Loss: 0.7555, Disc Loss: 1.3964\n",
      "Epoch 77/200 - Gen Loss: 0.6627, Disc Loss: 1.3724\n",
      "Epoch 78/200 - Gen Loss: 0.7424, Disc Loss: 1.3334\n",
      "Epoch 79/200 - Gen Loss: 0.7291, Disc Loss: 1.3739\n",
      "Epoch 80/200 - Gen Loss: 0.7003, Disc Loss: 1.3544\n",
      "Saved /content/dcgan/generated_images//epoch_80.png\n",
      "Epoch 81/200 - Gen Loss: 0.7485, Disc Loss: 1.3711\n",
      "Epoch 82/200 - Gen Loss: 0.6526, Disc Loss: 1.3674\n",
      "Epoch 83/200 - Gen Loss: 0.6627, Disc Loss: 1.3662\n",
      "Epoch 84/200 - Gen Loss: 0.7687, Disc Loss: 1.3579\n",
      "Epoch 85/200 - Gen Loss: 0.7237, Disc Loss: 1.3731\n",
      "Epoch 86/200 - Gen Loss: 0.7693, Disc Loss: 1.3719\n",
      "Epoch 87/200 - Gen Loss: 0.7034, Disc Loss: 1.3528\n",
      "Epoch 88/200 - Gen Loss: 0.6880, Disc Loss: 1.3355\n",
      "Epoch 89/200 - Gen Loss: 0.6591, Disc Loss: 1.3715\n",
      "Epoch 90/200 - Gen Loss: 0.7459, Disc Loss: 1.3405\n",
      "Saved /content/dcgan/generated_images//epoch_90.png\n",
      "Epoch 91/200 - Gen Loss: 0.7208, Disc Loss: 1.3717\n",
      "Epoch 92/200 - Gen Loss: 0.6837, Disc Loss: 1.3467\n",
      "Epoch 93/200 - Gen Loss: 0.7324, Disc Loss: 1.3768\n",
      "Epoch 94/200 - Gen Loss: 0.6875, Disc Loss: 1.3783\n",
      "Epoch 95/200 - Gen Loss: 0.6848, Disc Loss: 1.3228\n",
      "Epoch 96/200 - Gen Loss: 0.6502, Disc Loss: 1.3577\n",
      "Epoch 97/200 - Gen Loss: 0.7287, Disc Loss: 1.3703\n",
      "Epoch 98/200 - Gen Loss: 0.7486, Disc Loss: 1.3743\n",
      "Epoch 99/200 - Gen Loss: 0.6666, Disc Loss: 1.3842\n",
      "Epoch 100/200 - Gen Loss: 0.7904, Disc Loss: 1.3755\n",
      "Saved /content/dcgan/generated_images//epoch_100.png\n",
      "Epoch 101/200 - Gen Loss: 0.7192, Disc Loss: 1.3370\n",
      "Epoch 102/200 - Gen Loss: 0.7019, Disc Loss: 1.3518\n",
      "Epoch 103/200 - Gen Loss: 0.6848, Disc Loss: 1.3558\n",
      "Epoch 104/200 - Gen Loss: 0.6923, Disc Loss: 1.3712\n",
      "Epoch 105/200 - Gen Loss: 0.6594, Disc Loss: 1.3511\n",
      "Epoch 106/200 - Gen Loss: 0.7050, Disc Loss: 1.3512\n",
      "Epoch 107/200 - Gen Loss: 0.7158, Disc Loss: 1.3648\n",
      "Epoch 108/200 - Gen Loss: 0.7223, Disc Loss: 1.3761\n",
      "Epoch 109/200 - Gen Loss: 0.7278, Disc Loss: 1.3927\n",
      "Epoch 110/200 - Gen Loss: 0.6924, Disc Loss: 1.3332\n",
      "Saved /content/dcgan/generated_images//epoch_110.png\n",
      "Epoch 111/200 - Gen Loss: 0.7754, Disc Loss: 1.3953\n",
      "Epoch 112/200 - Gen Loss: 0.7351, Disc Loss: 1.3588\n",
      "Epoch 113/200 - Gen Loss: 0.7098, Disc Loss: 1.3622\n",
      "Epoch 114/200 - Gen Loss: 0.7396, Disc Loss: 1.3734\n",
      "Epoch 115/200 - Gen Loss: 0.7186, Disc Loss: 1.3601\n",
      "Epoch 116/200 - Gen Loss: 0.7158, Disc Loss: 1.3848\n",
      "Epoch 117/200 - Gen Loss: 0.7474, Disc Loss: 1.3821\n",
      "Epoch 118/200 - Gen Loss: 0.7321, Disc Loss: 1.3443\n",
      "Epoch 119/200 - Gen Loss: 0.7258, Disc Loss: 1.3725\n",
      "Epoch 120/200 - Gen Loss: 0.7476, Disc Loss: 1.3781\n",
      "Saved /content/dcgan/generated_images//epoch_120.png\n",
      "Epoch 121/200 - Gen Loss: 0.7215, Disc Loss: 1.3764\n",
      "Epoch 122/200 - Gen Loss: 0.7002, Disc Loss: 1.3785\n",
      "Epoch 123/200 - Gen Loss: 0.7361, Disc Loss: 1.3710\n",
      "Epoch 124/200 - Gen Loss: 0.7921, Disc Loss: 1.3595\n",
      "Epoch 125/200 - Gen Loss: 0.7270, Disc Loss: 1.3630\n",
      "Epoch 126/200 - Gen Loss: 0.7063, Disc Loss: 1.3662\n",
      "Epoch 127/200 - Gen Loss: 0.7088, Disc Loss: 1.4000\n",
      "Epoch 128/200 - Gen Loss: 0.7067, Disc Loss: 1.3879\n",
      "Epoch 129/200 - Gen Loss: 0.7025, Disc Loss: 1.3503\n",
      "Epoch 130/200 - Gen Loss: 0.6956, Disc Loss: 1.3461\n",
      "Saved /content/dcgan/generated_images//epoch_130.png\n",
      "Epoch 131/200 - Gen Loss: 0.6975, Disc Loss: 1.3453\n",
      "Epoch 132/200 - Gen Loss: 0.7093, Disc Loss: 1.3842\n",
      "Epoch 133/200 - Gen Loss: 0.6976, Disc Loss: 1.3810\n",
      "Epoch 134/200 - Gen Loss: 0.7172, Disc Loss: 1.3869\n",
      "Epoch 135/200 - Gen Loss: 0.7438, Disc Loss: 1.3647\n",
      "Epoch 136/200 - Gen Loss: 0.7105, Disc Loss: 1.3649\n",
      "Epoch 137/200 - Gen Loss: 0.7287, Disc Loss: 1.3454\n",
      "Epoch 138/200 - Gen Loss: 0.6767, Disc Loss: 1.3883\n",
      "Epoch 139/200 - Gen Loss: 0.7217, Disc Loss: 1.3622\n",
      "Epoch 140/200 - Gen Loss: 0.6976, Disc Loss: 1.3771\n",
      "Saved /content/dcgan/generated_images//epoch_140.png\n",
      "Epoch 141/200 - Gen Loss: 0.6588, Disc Loss: 1.3758\n",
      "Epoch 142/200 - Gen Loss: 0.6861, Disc Loss: 1.3686\n",
      "Epoch 143/200 - Gen Loss: 0.7123, Disc Loss: 1.3457\n",
      "Epoch 144/200 - Gen Loss: 0.7059, Disc Loss: 1.3734\n",
      "Epoch 145/200 - Gen Loss: 0.7157, Disc Loss: 1.3502\n",
      "Epoch 146/200 - Gen Loss: 0.7051, Disc Loss: 1.3693\n",
      "Epoch 147/200 - Gen Loss: 0.7374, Disc Loss: 1.3697\n",
      "Epoch 148/200 - Gen Loss: 0.7129, Disc Loss: 1.3695\n",
      "Epoch 149/200 - Gen Loss: 0.6966, Disc Loss: 1.3489\n",
      "Epoch 150/200 - Gen Loss: 0.7155, Disc Loss: 1.3471\n",
      "Saved /content/dcgan/generated_images//epoch_150.png\n",
      "Epoch 151/200 - Gen Loss: 0.6862, Disc Loss: 1.3842\n",
      "Epoch 152/200 - Gen Loss: 0.6992, Disc Loss: 1.3718\n",
      "Epoch 153/200 - Gen Loss: 0.7126, Disc Loss: 1.3613\n",
      "Epoch 154/200 - Gen Loss: 0.7042, Disc Loss: 1.3742\n",
      "Epoch 155/200 - Gen Loss: 0.6781, Disc Loss: 1.3829\n",
      "Epoch 156/200 - Gen Loss: 0.7362, Disc Loss: 1.3710\n",
      "Epoch 157/200 - Gen Loss: 0.6876, Disc Loss: 1.3741\n",
      "Epoch 158/200 - Gen Loss: 0.6929, Disc Loss: 1.3643\n",
      "Epoch 159/200 - Gen Loss: 0.6872, Disc Loss: 1.3742\n",
      "Epoch 160/200 - Gen Loss: 0.7260, Disc Loss: 1.3636\n",
      "Saved /content/dcgan/generated_images//epoch_160.png\n",
      "Epoch 161/200 - Gen Loss: 0.6704, Disc Loss: 1.3677\n",
      "Epoch 162/200 - Gen Loss: 0.7086, Disc Loss: 1.3822\n",
      "Epoch 163/200 - Gen Loss: 0.7086, Disc Loss: 1.3999\n",
      "Epoch 164/200 - Gen Loss: 0.7322, Disc Loss: 1.3780\n",
      "Epoch 165/200 - Gen Loss: 0.7031, Disc Loss: 1.3712\n",
      "Epoch 166/200 - Gen Loss: 0.7059, Disc Loss: 1.3592\n",
      "Epoch 167/200 - Gen Loss: 0.6873, Disc Loss: 1.3700\n",
      "Epoch 168/200 - Gen Loss: 0.7398, Disc Loss: 1.3841\n",
      "Epoch 169/200 - Gen Loss: 0.7069, Disc Loss: 1.3676\n",
      "Epoch 170/200 - Gen Loss: 0.7038, Disc Loss: 1.3650\n",
      "Saved /content/dcgan/generated_images//epoch_170.png\n",
      "Epoch 171/200 - Gen Loss: 0.9852, Disc Loss: 1.2135\n",
      "Epoch 172/200 - Gen Loss: 0.6751, Disc Loss: 1.3674\n",
      "Epoch 173/200 - Gen Loss: 0.7017, Disc Loss: 1.3753\n",
      "Epoch 174/200 - Gen Loss: 0.7005, Disc Loss: 1.3871\n",
      "Epoch 175/200 - Gen Loss: 0.7177, Disc Loss: 1.3752\n",
      "Epoch 176/200 - Gen Loss: 0.7316, Disc Loss: 1.3893\n",
      "Epoch 177/200 - Gen Loss: 0.7019, Disc Loss: 1.3686\n",
      "Epoch 178/200 - Gen Loss: 0.6822, Disc Loss: 1.3720\n",
      "Epoch 179/200 - Gen Loss: 0.7058, Disc Loss: 1.3714\n",
      "Epoch 180/200 - Gen Loss: 0.7441, Disc Loss: 1.3762\n",
      "Saved /content/dcgan/generated_images//epoch_180.png\n",
      "Epoch 181/200 - Gen Loss: 0.6604, Disc Loss: 1.3712\n",
      "Epoch 182/200 - Gen Loss: 0.7487, Disc Loss: 1.3685\n",
      "Epoch 183/200 - Gen Loss: 0.7121, Disc Loss: 1.3654\n",
      "Epoch 184/200 - Gen Loss: 0.7147, Disc Loss: 1.3766\n",
      "Epoch 185/200 - Gen Loss: 0.6984, Disc Loss: 1.3773\n",
      "Epoch 186/200 - Gen Loss: 0.6924, Disc Loss: 1.3671\n",
      "Epoch 187/200 - Gen Loss: 0.7034, Disc Loss: 1.3572\n",
      "Epoch 188/200 - Gen Loss: 0.7233, Disc Loss: 1.3749\n",
      "Epoch 189/200 - Gen Loss: 0.6980, Disc Loss: 1.3781\n",
      "Epoch 190/200 - Gen Loss: 0.7066, Disc Loss: 1.3661\n",
      "Saved /content/dcgan/generated_images//epoch_190.png\n",
      "Epoch 191/200 - Gen Loss: 0.7253, Disc Loss: 1.3687\n",
      "Epoch 192/200 - Gen Loss: 0.7170, Disc Loss: 1.3846\n",
      "Epoch 193/200 - Gen Loss: 0.6892, Disc Loss: 1.3706\n",
      "Epoch 194/200 - Gen Loss: 0.6761, Disc Loss: 1.3814\n",
      "Epoch 195/200 - Gen Loss: 0.6928, Disc Loss: 1.3817\n",
      "Epoch 196/200 - Gen Loss: 0.7070, Disc Loss: 1.3990\n",
      "Epoch 197/200 - Gen Loss: 0.6962, Disc Loss: 1.3636\n",
      "Epoch 198/200 - Gen Loss: 0.7058, Disc Loss: 1.3677\n",
      "Epoch 199/200 - Gen Loss: 0.7258, Disc Loss: 1.3800\n",
      "Epoch 200/200 - Gen Loss: 0.6803, Disc Loss: 1.3004\n",
      "Saved /content/dcgan/generated_images//epoch_200.png\n",
      "WARNING:absl:You are saving your model as an HDF5 file via `model.save()` or `keras.saving.save_model(model)`. This file format is considered legacy. We recommend using instead the native Keras format, e.g. `model.save('my_model.keras')` or `keras.saving.save_model(model, 'my_model.keras')`. \n",
      "WARNING:absl:You are saving your model as an HDF5 file via `model.save()` or `keras.saving.save_model(model)`. This file format is considered legacy. We recommend using instead the native Keras format, e.g. `model.save('my_model.keras')` or `keras.saving.save_model(model, 'my_model.keras')`. \n"
     ]
    }
   ],
   "source": [
    "!python /content/dcgan/train_dcgan.py\n"
   ]
  },
  {
   "cell_type": "code",
   "execution_count": null,
   "metadata": {
    "colab": {
     "base_uri": "https://localhost:8080/"
    },
    "executionInfo": {
     "elapsed": 42,
     "status": "ok",
     "timestamp": 1741222119230,
     "user": {
      "displayName": "Yengfong Thao",
      "userId": "13613316813674662303"
     },
     "user_tz": 360
    },
    "id": "Zs-Dk0px4hQT",
    "outputId": "8f97992b-d4d1-4ba1-9399-8f5e5e9bcd20"
   },
   "outputs": [
    {
     "name": "stdout",
     "output_type": "stream",
     "text": [
      "/content/dcgan/exp1\n"
     ]
    }
   ],
   "source": [
    "cd /content/dcgan/exp1/"
   ]
  },
  {
   "cell_type": "code",
   "execution_count": null,
   "metadata": {
    "colab": {
     "base_uri": "https://localhost:8080/"
    },
    "executionInfo": {
     "elapsed": 1187018,
     "status": "ok",
     "timestamp": 1741224812303,
     "user": {
      "displayName": "Yengfong Thao",
      "userId": "13613316813674662303"
     },
     "user_tz": 360
    },
    "id": "6HrzFXtE7R57",
    "outputId": "7c706b6f-33cf-4de7-bf9d-58f751114ed3"
   },
   "outputs": [
    {
     "name": "stdout",
     "output_type": "stream",
     "text": [
      "2025-03-06 01:13:43.968045: E external/local_xla/xla/stream_executor/cuda/cuda_fft.cc:477] Unable to register cuFFT factory: Attempting to register factory for plugin cuFFT when one has already been registered\n",
      "WARNING: All log messages before absl::InitializeLog() is called are written to STDERR\n",
      "E0000 00:00:1741223623.986233   95670 cuda_dnn.cc:8310] Unable to register cuDNN factory: Attempting to register factory for plugin cuDNN when one has already been registered\n",
      "E0000 00:00:1741223623.991831   95670 cuda_blas.cc:1418] Unable to register cuBLAS factory: Attempting to register factory for plugin cuBLAS when one has already been registered\n",
      "2025-03-06 01:13:48.315330: W tensorflow/core/common_runtime/gpu/gpu_bfc_allocator.cc:47] Overriding orig_value setting because the TF_FORCE_GPU_ALLOW_GROWTH environment variable is set. Original config value was 0.\n",
      "I0000 00:00:1741223628.315541   95670 gpu_device.cc:2022] Created device /job:localhost/replica:0/task:0/device:GPU:0 with 13806 MB memory:  -> device: 0, name: Tesla T4, pci bus id: 0000:00:04.0, compute capability: 7.5\n",
      "/usr/local/lib/python3.11/dist-packages/keras/src/layers/core/dense.py:87: UserWarning: Do not pass an `input_shape`/`input_dim` argument to a layer. When using Sequential models, prefer using an `Input(shape)` object as the first layer in the model instead.\n",
      "  super().__init__(activity_regularizer=activity_regularizer, **kwargs)\n",
      "/usr/local/lib/python3.11/dist-packages/keras/src/layers/activations/leaky_relu.py:41: UserWarning: Argument `alpha` is deprecated. Use `negative_slope` instead.\n",
      "  warnings.warn(\n",
      "/usr/local/lib/python3.11/dist-packages/keras/src/layers/convolutional/base_conv.py:107: UserWarning: Do not pass an `input_shape`/`input_dim` argument to a layer. When using Sequential models, prefer using an `Input(shape)` object as the first layer in the model instead.\n",
      "  super().__init__(activity_regularizer=activity_regularizer, **kwargs)\n",
      "/usr/local/lib/python3.11/dist-packages/keras/src/backend/tensorflow/nn.py:780: UserWarning: \"`binary_crossentropy` received `from_logits=True`, but the `output` argument was produced by a Sigmoid activation and thus does not represent logits. Was this intended?\n",
      "  output, from_logits = _get_logits(\n",
      "E0000 00:00:1741223633.099914   95670 meta_optimizer.cc:966] layout failed: INVALID_ARGUMENT: Size of values 0 does not match size of permutation 4 @ fanin shape insequential_1_2/dropout_1/stateless_dropout/SelectV2-2-TransposeNHWCToNCHW-LayoutOptimizer\n",
      "I0000 00:00:1741223633.333628   95707 cuda_dnn.cc:529] Loaded cuDNN version 90300\n",
      "Epoch 1/50 - Gen Loss: 0.6871, Disc Loss: 1.4022\n",
      "Epoch 2/50 - Gen Loss: 0.7103, Disc Loss: 1.3910\n",
      "Epoch 3/50 - Gen Loss: 0.6673, Disc Loss: 1.3903\n",
      "Epoch 4/50 - Gen Loss: 0.6871, Disc Loss: 1.3795\n",
      "Epoch 5/50 - Gen Loss: 0.7567, Disc Loss: 1.3713\n",
      "Epoch 6/50 - Gen Loss: 0.6719, Disc Loss: 1.4083\n",
      "Epoch 7/50 - Gen Loss: 0.6943, Disc Loss: 1.3518\n",
      "Epoch 8/50 - Gen Loss: 0.6882, Disc Loss: 1.3729\n",
      "Epoch 9/50 - Gen Loss: 0.7174, Disc Loss: 1.3590\n",
      "Epoch 10/50 - Gen Loss: 0.6972, Disc Loss: 1.3589\n",
      "Saved /content/dcgan/exp1/generated_images//epoch_10.png\n",
      "Epoch 11/50 - Gen Loss: 0.6740, Disc Loss: 1.3609\n",
      "Epoch 12/50 - Gen Loss: 0.7112, Disc Loss: 1.3846\n",
      "Epoch 13/50 - Gen Loss: 0.6741, Disc Loss: 1.3822\n",
      "Epoch 14/50 - Gen Loss: 0.7436, Disc Loss: 1.3620\n",
      "Epoch 15/50 - Gen Loss: 0.6624, Disc Loss: 1.3437\n",
      "Epoch 16/50 - Gen Loss: 0.7017, Disc Loss: 1.3580\n",
      "Epoch 17/50 - Gen Loss: 0.6547, Disc Loss: 1.3632\n",
      "Epoch 18/50 - Gen Loss: 0.6692, Disc Loss: 1.3929\n",
      "Epoch 19/50 - Gen Loss: 0.6780, Disc Loss: 1.3647\n",
      "Epoch 20/50 - Gen Loss: 0.6512, Disc Loss: 1.3414\n",
      "Saved /content/dcgan/exp1/generated_images//epoch_20.png\n",
      "Epoch 21/50 - Gen Loss: 0.6785, Disc Loss: 1.3219\n",
      "Epoch 22/50 - Gen Loss: 0.6722, Disc Loss: 1.4300\n",
      "Epoch 23/50 - Gen Loss: 0.7302, Disc Loss: 1.3490\n",
      "Epoch 24/50 - Gen Loss: 0.7085, Disc Loss: 1.3686\n",
      "Epoch 25/50 - Gen Loss: 0.7050, Disc Loss: 1.3958\n",
      "Epoch 26/50 - Gen Loss: 0.7276, Disc Loss: 1.3839\n",
      "Epoch 27/50 - Gen Loss: 0.6969, Disc Loss: 1.3832\n",
      "Epoch 28/50 - Gen Loss: 0.6863, Disc Loss: 1.3860\n",
      "Epoch 29/50 - Gen Loss: 0.7117, Disc Loss: 1.3467\n",
      "Epoch 30/50 - Gen Loss: 0.6998, Disc Loss: 1.3629\n",
      "Saved /content/dcgan/exp1/generated_images//epoch_30.png\n",
      "Epoch 31/50 - Gen Loss: 0.6940, Disc Loss: 1.3699\n",
      "Epoch 32/50 - Gen Loss: 0.6812, Disc Loss: 1.3605\n",
      "Epoch 33/50 - Gen Loss: 0.7172, Disc Loss: 1.3979\n",
      "Epoch 34/50 - Gen Loss: 0.7259, Disc Loss: 1.3645\n",
      "Epoch 35/50 - Gen Loss: 0.7367, Disc Loss: 1.3809\n",
      "Epoch 36/50 - Gen Loss: 0.7262, Disc Loss: 1.3512\n",
      "Epoch 37/50 - Gen Loss: 0.7164, Disc Loss: 1.3978\n",
      "Epoch 38/50 - Gen Loss: 0.7595, Disc Loss: 1.3720\n",
      "Epoch 39/50 - Gen Loss: 0.7003, Disc Loss: 1.3902\n",
      "Epoch 40/50 - Gen Loss: 0.7287, Disc Loss: 1.3854\n",
      "Saved /content/dcgan/exp1/generated_images//epoch_40.png\n",
      "Epoch 41/50 - Gen Loss: 0.6980, Disc Loss: 1.4031\n",
      "Epoch 42/50 - Gen Loss: 0.6872, Disc Loss: 1.3963\n",
      "Epoch 43/50 - Gen Loss: 0.6928, Disc Loss: 1.3673\n",
      "Epoch 44/50 - Gen Loss: 0.7089, Disc Loss: 1.3843\n",
      "Epoch 45/50 - Gen Loss: 0.6898, Disc Loss: 1.3945\n",
      "Epoch 46/50 - Gen Loss: 0.7197, Disc Loss: 1.3705\n",
      "Epoch 47/50 - Gen Loss: 0.6931, Disc Loss: 1.3887\n",
      "Epoch 48/50 - Gen Loss: 0.7376, Disc Loss: 1.3745\n",
      "Epoch 49/50 - Gen Loss: 0.7392, Disc Loss: 1.3716\n",
      "Epoch 50/50 - Gen Loss: 0.6901, Disc Loss: 1.3880\n",
      "Saved /content/dcgan/exp1/generated_images//epoch_50.png\n",
      "Training log saved to /content/dcgan/exp1/logs/exp1_training_log.csv\n",
      "WARNING:absl:You are saving your model as an HDF5 file via `model.save()` or `keras.saving.save_model(model)`. This file format is considered legacy. We recommend using instead the native Keras format, e.g. `model.save('my_model.keras')` or `keras.saving.save_model(model, 'my_model.keras')`. \n",
      "WARNING:absl:You are saving your model as an HDF5 file via `model.save()` or `keras.saving.save_model(model)`. This file format is considered legacy. We recommend using instead the native Keras format, e.g. `model.save('my_model.keras')` or `keras.saving.save_model(model, 'my_model.keras')`. \n",
      "Experiment 1 Generator and Discriminator models saved.\n",
      "WARNING:absl:You are saving your model as an HDF5 file via `model.save()` or `keras.saving.save_model(model)`. This file format is considered legacy. We recommend using instead the native Keras format, e.g. `model.save('my_model.keras')` or `keras.saving.save_model(model, 'my_model.keras')`. \n",
      "Full DCGAN model for Experiment 1 saved!\n"
     ]
    }
   ],
   "source": [
    "!python /content/dcgan/exp1/train_dcgan.py"
   ]
  },
  {
   "cell_type": "code",
   "execution_count": null,
   "metadata": {
    "colab": {
     "base_uri": "https://localhost:8080/"
    },
    "executionInfo": {
     "elapsed": 780980,
     "status": "ok",
     "timestamp": 1741227273232,
     "user": {
      "displayName": "Yengfong Thao",
      "userId": "13613316813674662303"
     },
     "user_tz": 360
    },
    "id": "KTonlFlVH4Fj",
    "outputId": "96076128-a7a8-4f72-b0b0-6403309efbb1"
   },
   "outputs": [
    {
     "name": "stdout",
     "output_type": "stream",
     "text": [
      "2025-03-06 02:01:30.949428: E external/local_xla/xla/stream_executor/cuda/cuda_fft.cc:477] Unable to register cuFFT factory: Attempting to register factory for plugin cuFFT when one has already been registered\n",
      "WARNING: All log messages before absl::InitializeLog() is called are written to STDERR\n",
      "E0000 00:00:1741226490.967540  108585 cuda_dnn.cc:8310] Unable to register cuDNN factory: Attempting to register factory for plugin cuDNN when one has already been registered\n",
      "E0000 00:00:1741226490.973088  108585 cuda_blas.cc:1418] Unable to register cuBLAS factory: Attempting to register factory for plugin cuBLAS when one has already been registered\n",
      " Dataset loaded. Shape: (60000, 28, 28, 1)\n",
      "2025-03-06 02:01:35.143955: W tensorflow/core/common_runtime/gpu/gpu_bfc_allocator.cc:47] Overriding orig_value setting because the TF_FORCE_GPU_ALLOW_GROWTH environment variable is set. Original config value was 0.\n",
      "I0000 00:00:1741226495.144120  108585 gpu_device.cc:2022] Created device /job:localhost/replica:0/task:0/device:GPU:0 with 13806 MB memory:  -> device: 0, name: Tesla T4, pci bus id: 0000:00:04.0, compute capability: 7.5\n",
      "2025-03-06 02:01:35.145061: W external/local_xla/xla/tsl/framework/cpu_allocator_impl.cc:83] Allocation of 376320000 exceeds 10% of free system memory.\n",
      "2025-03-06 02:01:35.523393: W external/local_xla/xla/tsl/framework/cpu_allocator_impl.cc:83] Allocation of 376320000 exceeds 10% of free system memory.\n",
      "/usr/local/lib/python3.11/dist-packages/keras/src/layers/core/dense.py:87: UserWarning: Do not pass an `input_shape`/`input_dim` argument to a layer. When using Sequential models, prefer using an `Input(shape)` object as the first layer in the model instead.\n",
      "  super().__init__(activity_regularizer=activity_regularizer, **kwargs)\n",
      "/usr/local/lib/python3.11/dist-packages/keras/src/layers/activations/leaky_relu.py:41: UserWarning: Argument `alpha` is deprecated. Use `negative_slope` instead.\n",
      "  warnings.warn(\n",
      "/usr/local/lib/python3.11/dist-packages/keras/src/layers/convolutional/base_conv.py:107: UserWarning: Do not pass an `input_shape`/`input_dim` argument to a layer. When using Sequential models, prefer using an `Input(shape)` object as the first layer in the model instead.\n",
      "  super().__init__(activity_regularizer=activity_regularizer, **kwargs)\n",
      "2025-03-06 02:01:37.050557: W external/local_xla/xla/tsl/framework/cpu_allocator_impl.cc:83] Allocation of 376320000 exceeds 10% of free system memory.\n",
      "E0000 00:00:1741226499.565989  108585 meta_optimizer.cc:966] layout failed: INVALID_ARGUMENT: Size of values 0 does not match size of permutation 4 @ fanin shape insequential_1_2/dropout_1/stateless_dropout/SelectV2-2-TransposeNHWCToNCHW-LayoutOptimizer\n",
      "I0000 00:00:1741226499.774841  108618 cuda_dnn.cc:529] Loaded cuDNN version 90300\n",
      "Epoch 1/50 - Gen Loss: 0.6712, Disc Loss: 1.3941\n",
      "Epoch 2/50 - Gen Loss: 0.7503, Disc Loss: 1.3986\n",
      "Epoch 3/50 - Gen Loss: 0.6634, Disc Loss: 1.3592\n",
      "Epoch 4/50 - Gen Loss: 0.7927, Disc Loss: 1.3142\n",
      "Epoch 5/50 - Gen Loss: 0.7518, Disc Loss: 1.3120\n",
      "Epoch 6/50 - Gen Loss: 0.7000, Disc Loss: 1.3272\n",
      "Epoch 7/50 - Gen Loss: 0.6775, Disc Loss: 1.3195\n",
      "Epoch 8/50 - Gen Loss: 0.7232, Disc Loss: 1.3252\n",
      "Epoch 9/50 - Gen Loss: 0.8015, Disc Loss: 1.3804\n",
      "Epoch 10/50 - Gen Loss: 0.7477, Disc Loss: 1.3091\n",
      "Saved /content/dcgan/exp2/generated_images//epoch_10.png\n",
      "Epoch 11/50 - Gen Loss: 0.7514, Disc Loss: 1.3527\n",
      "Epoch 12/50 - Gen Loss: 0.8498, Disc Loss: 1.3467\n",
      "Epoch 13/50 - Gen Loss: 0.8580, Disc Loss: 1.3158\n",
      "Epoch 14/50 - Gen Loss: 0.8103, Disc Loss: 1.3303\n",
      "Epoch 15/50 - Gen Loss: 0.7477, Disc Loss: 1.2850\n",
      "Epoch 16/50 - Gen Loss: 0.7362, Disc Loss: 1.3258\n",
      "Epoch 17/50 - Gen Loss: 0.7734, Disc Loss: 1.2861\n",
      "Epoch 18/50 - Gen Loss: 0.7114, Disc Loss: 1.3189\n",
      "Epoch 19/50 - Gen Loss: 0.7984, Disc Loss: 1.3023\n",
      "Epoch 20/50 - Gen Loss: 0.7766, Disc Loss: 1.2617\n",
      "Saved /content/dcgan/exp2/generated_images//epoch_20.png\n",
      "Epoch 21/50 - Gen Loss: 0.8157, Disc Loss: 1.3412\n",
      "Epoch 22/50 - Gen Loss: 0.7299, Disc Loss: 1.3522\n",
      "Epoch 23/50 - Gen Loss: 0.7952, Disc Loss: 1.3165\n",
      "Epoch 24/50 - Gen Loss: 0.7242, Disc Loss: 1.2780\n",
      "Epoch 25/50 - Gen Loss: 0.7225, Disc Loss: 1.3327\n",
      "Epoch 26/50 - Gen Loss: 0.7014, Disc Loss: 1.3556\n",
      "Epoch 27/50 - Gen Loss: 0.7394, Disc Loss: 1.3662\n",
      "Epoch 28/50 - Gen Loss: 0.7439, Disc Loss: 1.2895\n",
      "Epoch 29/50 - Gen Loss: 0.6794, Disc Loss: 1.3006\n",
      "Epoch 30/50 - Gen Loss: 0.7210, Disc Loss: 1.3379\n",
      "Saved /content/dcgan/exp2/generated_images//epoch_30.png\n",
      "Epoch 31/50 - Gen Loss: 0.7555, Disc Loss: 1.3718\n",
      "Epoch 32/50 - Gen Loss: 0.6984, Disc Loss: 1.3510\n",
      "Epoch 33/50 - Gen Loss: 0.6758, Disc Loss: 1.4074\n",
      "Epoch 34/50 - Gen Loss: 0.7777, Disc Loss: 1.3283\n",
      "Epoch 35/50 - Gen Loss: 0.7741, Disc Loss: 1.3684\n",
      "Epoch 36/50 - Gen Loss: 0.7013, Disc Loss: 1.3693\n",
      "Epoch 37/50 - Gen Loss: 0.8295, Disc Loss: 1.3221\n",
      "Epoch 38/50 - Gen Loss: 0.7242, Disc Loss: 1.3274\n",
      "Epoch 39/50 - Gen Loss: 0.7805, Disc Loss: 1.3492\n",
      "Epoch 40/50 - Gen Loss: 0.7644, Disc Loss: 1.3207\n",
      "Saved /content/dcgan/exp2/generated_images//epoch_40.png\n",
      "Epoch 41/50 - Gen Loss: 0.6697, Disc Loss: 1.3417\n",
      "Epoch 42/50 - Gen Loss: 0.7610, Disc Loss: 1.3579\n",
      "Epoch 43/50 - Gen Loss: 0.7203, Disc Loss: 1.3739\n",
      "Epoch 44/50 - Gen Loss: 0.8159, Disc Loss: 1.3298\n",
      "Epoch 45/50 - Gen Loss: 0.7339, Disc Loss: 1.3216\n",
      "Epoch 46/50 - Gen Loss: 0.7189, Disc Loss: 1.3341\n",
      "Epoch 47/50 - Gen Loss: 0.7777, Disc Loss: 1.4150\n",
      "Epoch 48/50 - Gen Loss: 0.7026, Disc Loss: 1.3676\n",
      "Epoch 49/50 - Gen Loss: 0.7898, Disc Loss: 1.3739\n",
      "Epoch 50/50 - Gen Loss: 0.6957, Disc Loss: 1.3707\n",
      "Saved /content/dcgan/exp2/generated_images//epoch_50.png\n",
      "WARNING:absl:You are saving your model as an HDF5 file via `model.save()` or `keras.saving.save_model(model)`. This file format is considered legacy. We recommend using instead the native Keras format, e.g. `model.save('my_model.keras')` or `keras.saving.save_model(model, 'my_model.keras')`. \n",
      "WARNING:absl:You are saving your model as an HDF5 file via `model.save()` or `keras.saving.save_model(model)`. This file format is considered legacy. We recommend using instead the native Keras format, e.g. `model.save('my_model.keras')` or `keras.saving.save_model(model, 'my_model.keras')`. \n",
      "WARNING:absl:You are saving your model as an HDF5 file via `model.save()` or `keras.saving.save_model(model)`. This file format is considered legacy. We recommend using instead the native Keras format, e.g. `model.save('my_model.keras')` or `keras.saving.save_model(model, 'my_model.keras')`. \n",
      "Experiment 2: DCGAN model saved successfully!\n"
     ]
    }
   ],
   "source": [
    "!python /content/dcgan/exp2/train_dcgan.py"
   ]
  },
  {
   "cell_type": "code",
   "execution_count": null,
   "metadata": {
    "colab": {
     "base_uri": "https://localhost:8080/"
    },
    "executionInfo": {
     "elapsed": 419315,
     "status": "ok",
     "timestamp": 1741228093112,
     "user": {
      "displayName": "Yengfong Thao",
      "userId": "13613316813674662303"
     },
     "user_tz": 360
    },
    "id": "PnH2E9sVPgk1",
    "outputId": "0fbd7237-94f9-477e-c2a0-551f20872a69"
   },
   "outputs": [
    {
     "name": "stdout",
     "output_type": "stream",
     "text": [
      "2025-03-06 02:21:12.525552: E external/local_xla/xla/stream_executor/cuda/cuda_fft.cc:477] Unable to register cuFFT factory: Attempting to register factory for plugin cuFFT when one has already been registered\n",
      "WARNING: All log messages before absl::InitializeLog() is called are written to STDERR\n",
      "E0000 00:00:1741227672.545247  113999 cuda_dnn.cc:8310] Unable to register cuDNN factory: Attempting to register factory for plugin cuDNN when one has already been registered\n",
      "E0000 00:00:1741227672.550749  113999 cuda_blas.cc:1418] Unable to register cuBLAS factory: Attempting to register factory for plugin cuBLAS when one has already been registered\n",
      "2025-03-06 02:21:17.869863: W tensorflow/core/common_runtime/gpu/gpu_bfc_allocator.cc:47] Overriding orig_value setting because the TF_FORCE_GPU_ALLOW_GROWTH environment variable is set. Original config value was 0.\n",
      "I0000 00:00:1741227677.870039  113999 gpu_device.cc:2022] Created device /job:localhost/replica:0/task:0/device:GPU:0 with 13806 MB memory:  -> device: 0, name: Tesla T4, pci bus id: 0000:00:04.0, compute capability: 7.5\n",
      "/usr/local/lib/python3.11/dist-packages/keras/src/layers/core/dense.py:87: UserWarning: Do not pass an `input_shape`/`input_dim` argument to a layer. When using Sequential models, prefer using an `Input(shape)` object as the first layer in the model instead.\n",
      "  super().__init__(activity_regularizer=activity_regularizer, **kwargs)\n",
      "/usr/local/lib/python3.11/dist-packages/keras/src/layers/activations/leaky_relu.py:41: UserWarning: Argument `alpha` is deprecated. Use `negative_slope` instead.\n",
      "  warnings.warn(\n",
      "/usr/local/lib/python3.11/dist-packages/keras/src/layers/convolutional/base_conv.py:107: UserWarning: Do not pass an `input_shape`/`input_dim` argument to a layer. When using Sequential models, prefer using an `Input(shape)` object as the first layer in the model instead.\n",
      "  super().__init__(activity_regularizer=activity_regularizer, **kwargs)\n",
      "/usr/local/lib/python3.11/dist-packages/keras/src/backend/tensorflow/nn.py:780: UserWarning: \"`binary_crossentropy` received `from_logits=True`, but the `output` argument was produced by a Sigmoid activation and thus does not represent logits. Was this intended?\n",
      "  output, from_logits = _get_logits(\n",
      "I0000 00:00:1741227682.064802  114039 cuda_dnn.cc:529] Loaded cuDNN version 90300\n",
      "Epoch 1/50 - Gen Loss: 2.4463, Disc Loss: 1.3383\n",
      "Epoch 2/50 - Gen Loss: 1.9836, Disc Loss: 1.4494\n",
      "Epoch 3/50 - Gen Loss: 2.0523, Disc Loss: 1.2214\n",
      "Epoch 4/50 - Gen Loss: 1.6050, Disc Loss: 1.2171\n",
      "Epoch 5/50 - Gen Loss: 1.5327, Disc Loss: 1.1397\n",
      "Epoch 6/50 - Gen Loss: 1.2956, Disc Loss: 1.1827\n",
      "Epoch 7/50 - Gen Loss: 1.0844, Disc Loss: 1.3263\n",
      "Epoch 8/50 - Gen Loss: 1.1719, Disc Loss: 1.1637\n",
      "Epoch 9/50 - Gen Loss: 1.1827, Disc Loss: 1.2358\n",
      "Epoch 10/50 - Gen Loss: 1.1327, Disc Loss: 1.2882\n",
      " Saved /content/dcgan/exp3/generated_images//epoch_10.png\n",
      "Epoch 11/50 - Gen Loss: 0.9619, Disc Loss: 1.3612\n",
      "Epoch 12/50 - Gen Loss: 1.0056, Disc Loss: 1.2823\n",
      "Epoch 13/50 - Gen Loss: 0.9613, Disc Loss: 1.1864\n",
      "Epoch 14/50 - Gen Loss: 0.8832, Disc Loss: 1.2227\n",
      "Epoch 15/50 - Gen Loss: 0.8697, Disc Loss: 1.3050\n",
      "Epoch 16/50 - Gen Loss: 0.9554, Disc Loss: 1.2320\n",
      "Epoch 17/50 - Gen Loss: 1.0054, Disc Loss: 1.4066\n",
      "Epoch 18/50 - Gen Loss: 0.9104, Disc Loss: 1.3045\n",
      "Epoch 19/50 - Gen Loss: 0.7448, Disc Loss: 1.2956\n",
      "Epoch 20/50 - Gen Loss: 0.8153, Disc Loss: 1.3669\n",
      " Saved /content/dcgan/exp3/generated_images//epoch_20.png\n",
      "Epoch 21/50 - Gen Loss: 0.8390, Disc Loss: 1.3222\n",
      "Epoch 22/50 - Gen Loss: 0.7591, Disc Loss: 1.3591\n",
      "Epoch 23/50 - Gen Loss: 0.9432, Disc Loss: 1.2289\n",
      "Epoch 24/50 - Gen Loss: 0.8272, Disc Loss: 1.2919\n",
      "Epoch 25/50 - Gen Loss: 0.8709, Disc Loss: 1.3524\n",
      "Epoch 26/50 - Gen Loss: 1.0182, Disc Loss: 1.1892\n",
      "Epoch 27/50 - Gen Loss: 0.8916, Disc Loss: 1.1844\n",
      "Epoch 28/50 - Gen Loss: 0.7802, Disc Loss: 1.2998\n",
      "Epoch 29/50 - Gen Loss: 0.8642, Disc Loss: 1.3199\n",
      "Epoch 30/50 - Gen Loss: 0.6793, Disc Loss: 1.3702\n",
      " Saved /content/dcgan/exp3/generated_images//epoch_30.png\n",
      "Epoch 31/50 - Gen Loss: 0.8380, Disc Loss: 1.2695\n",
      "Epoch 32/50 - Gen Loss: 0.9571, Disc Loss: 1.2677\n",
      "Epoch 33/50 - Gen Loss: 0.8337, Disc Loss: 1.3117\n",
      "Epoch 34/50 - Gen Loss: 0.8717, Disc Loss: 1.2248\n",
      "Epoch 35/50 - Gen Loss: 0.8562, Disc Loss: 1.2589\n",
      "Epoch 36/50 - Gen Loss: 0.8115, Disc Loss: 1.3233\n",
      "Epoch 37/50 - Gen Loss: 0.8745, Disc Loss: 1.3781\n",
      "Epoch 38/50 - Gen Loss: 0.8936, Disc Loss: 1.3827\n",
      "Epoch 39/50 - Gen Loss: 0.7938, Disc Loss: 1.3978\n",
      "Epoch 40/50 - Gen Loss: 0.8396, Disc Loss: 1.2996\n",
      " Saved /content/dcgan/exp3/generated_images//epoch_40.png\n",
      "Epoch 41/50 - Gen Loss: 0.7709, Disc Loss: 1.2631\n",
      "Epoch 42/50 - Gen Loss: 0.8928, Disc Loss: 1.3729\n",
      "Epoch 43/50 - Gen Loss: 0.6951, Disc Loss: 1.3447\n",
      "Epoch 44/50 - Gen Loss: 0.8433, Disc Loss: 1.2786\n",
      "Epoch 45/50 - Gen Loss: 0.7803, Disc Loss: 1.3701\n",
      "Epoch 46/50 - Gen Loss: 0.9096, Disc Loss: 1.3032\n",
      "Epoch 47/50 - Gen Loss: 0.8281, Disc Loss: 1.3390\n",
      "Epoch 48/50 - Gen Loss: 0.7497, Disc Loss: 1.3401\n",
      "Epoch 49/50 - Gen Loss: 0.8397, Disc Loss: 1.3426\n",
      "Epoch 50/50 - Gen Loss: 0.7542, Disc Loss: 1.3476\n",
      " Saved /content/dcgan/exp3/generated_images//epoch_50.png\n",
      "WARNING:absl:You are saving your model as an HDF5 file via `model.save()` or `keras.saving.save_model(model)`. This file format is considered legacy. We recommend using instead the native Keras format, e.g. `model.save('my_model.keras')` or `keras.saving.save_model(model, 'my_model.keras')`. \n",
      "WARNING:absl:You are saving your model as an HDF5 file via `model.save()` or `keras.saving.save_model(model)`. This file format is considered legacy. We recommend using instead the native Keras format, e.g. `model.save('my_model.keras')` or `keras.saving.save_model(model, 'my_model.keras')`. \n",
      "WARNING:absl:You are saving your model as an HDF5 file via `model.save()` or `keras.saving.save_model(model)`. This file format is considered legacy. We recommend using instead the native Keras format, e.g. `model.save('my_model.keras')` or `keras.saving.save_model(model, 'my_model.keras')`. \n",
      " Experiment 3 models saved!\n"
     ]
    }
   ],
   "source": [
    "!python /content/dcgan/exp3/train_dcgan.py"
   ]
  },
  {
   "cell_type": "code",
   "execution_count": null,
   "metadata": {
    "colab": {
     "base_uri": "https://localhost:8080/"
    },
    "executionInfo": {
     "elapsed": 2124,
     "status": "ok",
     "timestamp": 1741229805668,
     "user": {
      "displayName": "Yengfong Thao",
      "userId": "13613316813674662303"
     },
     "user_tz": 360
    },
    "id": "hVy-tSP3UlJx",
    "outputId": "6829a865-14e1-4ef2-d35f-17c330b717c6"
   },
   "outputs": [
    {
     "name": "stdout",
     "output_type": "stream",
     "text": [
      "Requirement already satisfied: wandb in /usr/local/lib/python3.11/dist-packages (0.19.7)\n",
      "Requirement already satisfied: click!=8.0.0,>=7.1 in /usr/local/lib/python3.11/dist-packages (from wandb) (8.1.8)\n",
      "Requirement already satisfied: docker-pycreds>=0.4.0 in /usr/local/lib/python3.11/dist-packages (from wandb) (0.4.0)\n",
      "Requirement already satisfied: gitpython!=3.1.29,>=1.0.0 in /usr/local/lib/python3.11/dist-packages (from wandb) (3.1.44)\n",
      "Requirement already satisfied: platformdirs in /usr/local/lib/python3.11/dist-packages (from wandb) (4.3.6)\n",
      "Requirement already satisfied: protobuf!=4.21.0,!=5.28.0,<6,>=3.19.0 in /usr/local/lib/python3.11/dist-packages (from wandb) (4.25.6)\n",
      "Requirement already satisfied: psutil>=5.0.0 in /usr/local/lib/python3.11/dist-packages (from wandb) (5.9.5)\n",
      "Requirement already satisfied: pydantic<3,>=2.6 in /usr/local/lib/python3.11/dist-packages (from wandb) (2.10.6)\n",
      "Requirement already satisfied: pyyaml in /usr/local/lib/python3.11/dist-packages (from wandb) (6.0.2)\n",
      "Requirement already satisfied: requests<3,>=2.0.0 in /usr/local/lib/python3.11/dist-packages (from wandb) (2.32.3)\n",
      "Requirement already satisfied: sentry-sdk>=2.0.0 in /usr/local/lib/python3.11/dist-packages (from wandb) (2.22.0)\n",
      "Requirement already satisfied: setproctitle in /usr/local/lib/python3.11/dist-packages (from wandb) (1.3.5)\n",
      "Requirement already satisfied: setuptools in /usr/local/lib/python3.11/dist-packages (from wandb) (75.1.0)\n",
      "Requirement already satisfied: typing-extensions<5,>=4.4 in /usr/local/lib/python3.11/dist-packages (from wandb) (4.12.2)\n",
      "Requirement already satisfied: six>=1.4.0 in /usr/local/lib/python3.11/dist-packages (from docker-pycreds>=0.4.0->wandb) (1.17.0)\n",
      "Requirement already satisfied: gitdb<5,>=4.0.1 in /usr/local/lib/python3.11/dist-packages (from gitpython!=3.1.29,>=1.0.0->wandb) (4.0.12)\n",
      "Requirement already satisfied: annotated-types>=0.6.0 in /usr/local/lib/python3.11/dist-packages (from pydantic<3,>=2.6->wandb) (0.7.0)\n",
      "Requirement already satisfied: pydantic-core==2.27.2 in /usr/local/lib/python3.11/dist-packages (from pydantic<3,>=2.6->wandb) (2.27.2)\n",
      "Requirement already satisfied: charset-normalizer<4,>=2 in /usr/local/lib/python3.11/dist-packages (from requests<3,>=2.0.0->wandb) (3.4.1)\n",
      "Requirement already satisfied: idna<4,>=2.5 in /usr/local/lib/python3.11/dist-packages (from requests<3,>=2.0.0->wandb) (3.10)\n",
      "Requirement already satisfied: urllib3<3,>=1.21.1 in /usr/local/lib/python3.11/dist-packages (from requests<3,>=2.0.0->wandb) (2.3.0)\n",
      "Requirement already satisfied: certifi>=2017.4.17 in /usr/local/lib/python3.11/dist-packages (from requests<3,>=2.0.0->wandb) (2025.1.31)\n",
      "Requirement already satisfied: smmap<6,>=3.0.1 in /usr/local/lib/python3.11/dist-packages (from gitdb<5,>=4.0.1->gitpython!=3.1.29,>=1.0.0->wandb) (5.0.2)\n"
     ]
    },
    {
     "data": {
      "text/plain": [
       "True"
      ]
     },
     "execution_count": 100,
     "metadata": {},
     "output_type": "execute_result"
    }
   ],
   "source": [
    "!pip install wandb\n",
    "import wandb\n",
    "\n",
    "wandb.login()\n"
   ]
  },
  {
   "cell_type": "code",
   "execution_count": null,
   "metadata": {
    "id": "pmrfdbDKe7zg"
   },
   "outputs": [],
   "source": [
    "!git config --global user.name \"LJThao\"\n",
    "!git config --global user.email \"yengfong.thao@atlasschool.com\""
   ]
  },
  {
   "cell_type": "code",
   "execution_count": null,
   "metadata": {
    "colab": {
     "base_uri": "https://localhost:8080/"
    },
    "executionInfo": {
     "elapsed": 1009,
     "status": "ok",
     "timestamp": 1741231556943,
     "user": {
      "displayName": "Yengfong Thao",
      "userId": "13613316813674662303"
     },
     "user_tz": 360
    },
    "id": "ocoItrCtfL84",
    "outputId": "45473133-7343-42f1-a90d-4aa72dc93dd3"
   },
   "outputs": [
    {
     "name": "stdout",
     "output_type": "stream",
     "text": [
      "Cloning into 'atlas-gan'...\n",
      "remote: Enumerating objects: 9, done.\u001b[K\n",
      "remote: Counting objects: 100% (9/9), done.\u001b[K\n",
      "remote: Compressing objects: 100% (5/5), done.\u001b[K\n",
      "remote: Total 9 (delta 0), reused 9 (delta 0), pack-reused 0 (from 0)\u001b[K\n",
      "Receiving objects: 100% (9/9), done.\n"
     ]
    }
   ],
   "source": [
    "!git clone https://github.com/LJThao/atlas-gan.git"
   ]
  },
  {
   "cell_type": "code",
   "execution_count": null,
   "metadata": {
    "id": "VaOhsTf7fTe7"
   },
   "outputs": [],
   "source": [
    "!cp -r /content/dcgan/* /content/root/atlas-gan/dcgan/\n"
   ]
  },
  {
   "cell_type": "code",
   "execution_count": null,
   "metadata": {
    "colab": {
     "base_uri": "https://localhost:8080/"
    },
    "executionInfo": {
     "elapsed": 144,
     "status": "ok",
     "timestamp": 1741232472676,
     "user": {
      "displayName": "Yengfong Thao",
      "userId": "13613316813674662303"
     },
     "user_tz": 360
    },
    "id": "7ClqbguqiubQ",
    "outputId": "111e8859-e63e-4e1d-c450-5a4807515802"
   },
   "outputs": [
    {
     "name": "stdout",
     "output_type": "stream",
     "text": [
      "dcgan\n"
     ]
    }
   ],
   "source": [
    "!ls /content/root/atlas-gan/\n"
   ]
  },
  {
   "cell_type": "code",
   "execution_count": null,
   "metadata": {
    "colab": {
     "base_uri": "https://localhost:8080/"
    },
    "executionInfo": {
     "elapsed": 8,
     "status": "ok",
     "timestamp": 1741232590791,
     "user": {
      "displayName": "Yengfong Thao",
      "userId": "13613316813674662303"
     },
     "user_tz": 360
    },
    "id": "68EZt4Nfiyto",
    "outputId": "136bb02a-a1fe-48f8-cb68-82064de6c41c"
   },
   "outputs": [
    {
     "name": "stdout",
     "output_type": "stream",
     "text": [
      "/content/root/atlas-gan\n"
     ]
    }
   ],
   "source": [
    "%cd /content/root/atlas-gan\n"
   ]
  },
  {
   "cell_type": "code",
   "execution_count": null,
   "metadata": {
    "colab": {
     "base_uri": "https://localhost:8080/"
    },
    "executionInfo": {
     "elapsed": 105,
     "status": "ok",
     "timestamp": 1741232599040,
     "user": {
      "displayName": "Yengfong Thao",
      "userId": "13613316813674662303"
     },
     "user_tz": 360
    },
    "id": "yTyiETeHjORq",
    "outputId": "d7f1512c-9342-49e8-9208-de0c9d9084fd"
   },
   "outputs": [
    {
     "name": "stdout",
     "output_type": "stream",
     "text": [
      "\u001b[33mhint: Using 'master' as the name for the initial branch. This default branch name\u001b[m\n",
      "\u001b[33mhint: is subject to change. To configure the initial branch name to use in all\u001b[m\n",
      "\u001b[33mhint: of your new repositories, which will suppress this warning, call:\u001b[m\n",
      "\u001b[33mhint: \u001b[m\n",
      "\u001b[33mhint: \tgit config --global init.defaultBranch <name>\u001b[m\n",
      "\u001b[33mhint: \u001b[m\n",
      "\u001b[33mhint: Names commonly chosen instead of 'master' are 'main', 'trunk' and\u001b[m\n",
      "\u001b[33mhint: 'development'. The just-created branch can be renamed via this command:\u001b[m\n",
      "\u001b[33mhint: \u001b[m\n",
      "\u001b[33mhint: \tgit branch -m <name>\u001b[m\n",
      "Initialized empty Git repository in /content/root/atlas-gan/.git/\n"
     ]
    }
   ],
   "source": [
    "!git init\n"
   ]
  },
  {
   "cell_type": "code",
   "execution_count": null,
   "metadata": {
    "id": "STx59KpZjUg8"
   },
   "outputs": [],
   "source": [
    "!git remote add origin https://github.com/LJThao/atlas-gan.git\n"
   ]
  },
  {
   "cell_type": "code",
   "execution_count": null,
   "metadata": {
    "colab": {
     "base_uri": "https://localhost:8080/"
    },
    "executionInfo": {
     "elapsed": 92,
     "status": "ok",
     "timestamp": 1741232639077,
     "user": {
      "displayName": "Yengfong Thao",
      "userId": "13613316813674662303"
     },
     "user_tz": 360
    },
    "id": "wb4BMruNjX-_",
    "outputId": "e7489480-bac3-4c34-d4bd-d9203f8e3b9d"
   },
   "outputs": [
    {
     "name": "stdout",
     "output_type": "stream",
     "text": [
      "origin\thttps://github.com/LJThao/atlas-gan.git (fetch)\n",
      "origin\thttps://github.com/LJThao/atlas-gan.git (push)\n"
     ]
    }
   ],
   "source": [
    "!git remote -v\n"
   ]
  },
  {
   "cell_type": "code",
   "execution_count": null,
   "metadata": {
    "id": "OKBW3df9kLAd"
   },
   "outputs": [],
   "source": [
    "!git branch -M main\n"
   ]
  },
  {
   "cell_type": "code",
   "execution_count": null,
   "metadata": {
    "colab": {
     "base_uri": "https://localhost:8080/"
    },
    "executionInfo": {
     "elapsed": 6925,
     "status": "ok",
     "timestamp": 1741232868396,
     "user": {
      "displayName": "Yengfong Thao",
      "userId": "13613316813674662303"
     },
     "user_tz": 360
    },
    "id": "YrqXZ-rskOoa",
    "outputId": "795ed3d9-79c5-430d-f6b0-642f43cbfe8f"
   },
   "outputs": [
    {
     "name": "stdout",
     "output_type": "stream",
     "text": [
      "warning: adding embedded git repository: dcgan/exp1/atlas-gan\n",
      "\u001b[33mhint: You've added another git repository inside your current repository.\u001b[m\n",
      "\u001b[33mhint: Clones of the outer repository will not contain the contents of\u001b[m\n",
      "\u001b[33mhint: the embedded repository and will not know how to obtain it.\u001b[m\n",
      "\u001b[33mhint: If you meant to add a submodule, use:\u001b[m\n",
      "\u001b[33mhint: \u001b[m\n",
      "\u001b[33mhint: \tgit submodule add <url> dcgan/exp1/atlas-gan\u001b[m\n",
      "\u001b[33mhint: \u001b[m\n",
      "\u001b[33mhint: If you added this path by mistake, you can remove it from the\u001b[m\n",
      "\u001b[33mhint: index with:\u001b[m\n",
      "\u001b[33mhint: \u001b[m\n",
      "\u001b[33mhint: \tgit rm --cached dcgan/exp1/atlas-gan\u001b[m\n",
      "\u001b[33mhint: \u001b[m\n",
      "\u001b[33mhint: See \"git help submodule\" for more information.\u001b[m\n"
     ]
    }
   ],
   "source": [
    "!git add .\n"
   ]
  },
  {
   "cell_type": "code",
   "execution_count": null,
   "metadata": {
    "colab": {
     "base_uri": "https://localhost:8080/"
    },
    "executionInfo": {
     "elapsed": 102,
     "status": "ok",
     "timestamp": 1741232890835,
     "user": {
      "displayName": "Yengfong Thao",
      "userId": "13613316813674662303"
     },
     "user_tz": 360
    },
    "id": "9crrJh9ekTBI",
    "outputId": "10938796-9999-4dc8-d94c-0f7aa6a1f9bb"
   },
   "outputs": [
    {
     "name": "stdout",
     "output_type": "stream",
     "text": [
      "[main (root-commit) 28e4c54] Push\n",
      " 89 files changed, 6240 insertions(+)\n",
      " create mode 100644 dcgan/README.md\n",
      " create mode 100644 dcgan/__pycache__/discriminator.cpython-310.pyc\n",
      " create mode 100644 dcgan/__pycache__/discriminator.cpython-311.pyc\n",
      " create mode 100644 dcgan/__pycache__/generator.cpython-310.pyc\n",
      " create mode 100644 dcgan/__pycache__/generator.cpython-311.pyc\n",
      " create mode 100644 dcgan/__pycache__/load_data.cpython-311.pyc\n",
      " create mode 100644 dcgan/base_dcgan_model.h5\n",
      " create mode 100644 dcgan/data/MNIST.npz\n",
      " create mode 100644 dcgan/data/mnist2500_X.txt\n",
      " create mode 100644 dcgan/data/mnist2500_labels.txt\n",
      " create mode 100644 dcgan/dcgan.py\n",
      " create mode 100644 dcgan/discriminator.h5\n",
      " create mode 100644 dcgan/discriminator.py\n",
      " create mode 100644 dcgan/exp1/__pycache__/discriminator.cpython-311.pyc\n",
      " create mode 100644 dcgan/exp1/__pycache__/generator.cpython-311.pyc\n",
      " create mode 160000 dcgan/exp1/atlas-gan\n",
      " create mode 100644 dcgan/exp1/dcgan.py\n",
      " create mode 100644 dcgan/exp1/discriminator.py\n",
      " create mode 100644 dcgan/exp1/exp1_dcgan_model.h5\n",
      " create mode 100644 dcgan/exp1/exp1_discriminator.h5\n",
      " create mode 100644 dcgan/exp1/exp1_generator.h5\n",
      " create mode 100644 dcgan/exp1/generated_images/epoch_10.png\n",
      " create mode 100644 dcgan/exp1/generated_images/epoch_20.png\n",
      " create mode 100644 dcgan/exp1/generated_images/epoch_30.png\n",
      " create mode 100644 dcgan/exp1/generated_images/epoch_40.png\n",
      " create mode 100644 dcgan/exp1/generated_images/epoch_50.png\n",
      " create mode 100644 dcgan/exp1/generator.py\n",
      " create mode 100644 dcgan/exp1/load_data.py\n",
      " create mode 100644 dcgan/exp1/logs/exp1_training_log.csv\n",
      " create mode 100644 dcgan/exp1/train_dcgan.py\n",
      " create mode 100644 dcgan/exp2/__pycache__/discriminator.cpython-311.pyc\n",
      " create mode 100644 dcgan/exp2/__pycache__/generator.cpython-311.pyc\n",
      " create mode 100644 dcgan/exp2/__pycache__/load_data.cpython-311.pyc\n",
      " create mode 100644 dcgan/exp2/dcgan.py\n",
      " create mode 100644 dcgan/exp2/discriminator.py\n",
      " create mode 100644 dcgan/exp2/exp2_dcgan_model.h5\n",
      " create mode 100644 dcgan/exp2/exp2_discriminator.h5\n",
      " create mode 100644 dcgan/exp2/exp2_generator.h5\n",
      " create mode 100644 dcgan/exp2/generated_images/epoch_10.png\n",
      " create mode 100644 dcgan/exp2/generated_images/epoch_20.png\n",
      " create mode 100644 dcgan/exp2/generated_images/epoch_30.png\n",
      " create mode 100644 dcgan/exp2/generated_images/epoch_40.png\n",
      " create mode 100644 dcgan/exp2/generated_images/epoch_50.png\n",
      " create mode 100644 dcgan/exp2/generator.py\n",
      " create mode 100644 dcgan/exp2/load_data.py\n",
      " create mode 100644 dcgan/exp2/logs/exp2_training_log.csv\n",
      " create mode 100644 dcgan/exp2/train_dcgan.py\n",
      " create mode 100644 dcgan/exp3/__pycache__/discriminator.cpython-311.pyc\n",
      " create mode 100644 dcgan/exp3/__pycache__/generator.cpython-311.pyc\n",
      " create mode 100644 dcgan/exp3/dcgan.py\n",
      " create mode 100644 dcgan/exp3/discriminator.py\n",
      " create mode 100644 dcgan/exp3/exp3_dcgan_model.h5\n",
      " create mode 100644 dcgan/exp3/exp3_discriminator.h5\n",
      " create mode 100644 dcgan/exp3/exp3_generator.h5\n",
      " create mode 100644 dcgan/exp3/generated_images/epoch_10.png\n",
      " create mode 100644 dcgan/exp3/generated_images/epoch_20.png\n",
      " create mode 100644 dcgan/exp3/generated_images/epoch_30.png\n",
      " create mode 100644 dcgan/exp3/generated_images/epoch_40.png\n",
      " create mode 100644 dcgan/exp3/generated_images/epoch_50.png\n",
      " create mode 100644 dcgan/exp3/generator.py\n",
      " create mode 100644 dcgan/exp3/load_data.py\n",
      " create mode 100644 dcgan/exp3/logs/exp3_training_log.csv\n",
      " create mode 100644 dcgan/exp3/train_dcgan.py\n",
      " create mode 100644 dcgan/final_dcgan_model.h5\n",
      " create mode 100644 dcgan/generated_images/epoch_10.png\n",
      " create mode 100644 dcgan/generated_images/epoch_100.png\n",
      " create mode 100644 dcgan/generated_images/epoch_110.png\n",
      " create mode 100644 dcgan/generated_images/epoch_120.png\n",
      " create mode 100644 dcgan/generated_images/epoch_130.png\n",
      " create mode 100644 dcgan/generated_images/epoch_140.png\n",
      " create mode 100644 dcgan/generated_images/epoch_150.png\n",
      " create mode 100644 dcgan/generated_images/epoch_160.png\n",
      " create mode 100644 dcgan/generated_images/epoch_170.png\n",
      " create mode 100644 dcgan/generated_images/epoch_180.png\n",
      " create mode 100644 dcgan/generated_images/epoch_190.png\n",
      " create mode 100644 dcgan/generated_images/epoch_20.png\n",
      " create mode 100644 dcgan/generated_images/epoch_200.png\n",
      " create mode 100644 dcgan/generated_images/epoch_30.png\n",
      " create mode 100644 dcgan/generated_images/epoch_40.png\n",
      " create mode 100644 dcgan/generated_images/epoch_50.png\n",
      " create mode 100644 dcgan/generated_images/epoch_60.png\n",
      " create mode 100644 dcgan/generated_images/epoch_70.png\n",
      " create mode 100644 dcgan/generated_images/epoch_80.png\n",
      " create mode 100644 dcgan/generated_images/epoch_90.png\n",
      " create mode 100644 dcgan/generator.h5\n",
      " create mode 100644 dcgan/generator.py\n",
      " create mode 100644 dcgan/load_data.py\n",
      " create mode 100644 dcgan/logs/training_log.csv\n",
      " create mode 100644 dcgan/train_dcgan.py\n"
     ]
    }
   ],
   "source": [
    "!git commit -m \"Push\"\n"
   ]
  },
  {
   "cell_type": "code",
   "execution_count": null,
   "metadata": {
    "colab": {
     "base_uri": "https://localhost:8080/"
    },
    "executionInfo": {
     "elapsed": 1410,
     "status": "ok",
     "timestamp": 1741233269066,
     "user": {
      "displayName": "Yengfong Thao",
      "userId": "13613316813674662303"
     },
     "user_tz": 360
    },
    "id": "u7aINAUhlOux",
    "outputId": "b1ed8531-fe97-4e3d-cef1-eb888af878a0"
   },
   "outputs": [
    {
     "name": "stdout",
     "output_type": "stream",
     "text": [
      "remote: Enumerating objects: 9, done.\u001b[K\n",
      "remote: Counting objects:  11% (1/9)\u001b[K\rremote: Counting objects:  22% (2/9)\u001b[K\rremote: Counting objects:  33% (3/9)\u001b[K\rremote: Counting objects:  44% (4/9)\u001b[K\rremote: Counting objects:  55% (5/9)\u001b[K\rremote: Counting objects:  66% (6/9)\u001b[K\rremote: Counting objects:  77% (7/9)\u001b[K\rremote: Counting objects:  88% (8/9)\u001b[K\rremote: Counting objects: 100% (9/9)\u001b[K\rremote: Counting objects: 100% (9/9), done.\u001b[K\n",
      "remote: Compressing objects:  20% (1/5)\u001b[K\rremote: Compressing objects:  40% (2/5)\u001b[K\rremote: Compressing objects:  60% (3/5)\u001b[K\rremote: Compressing objects:  80% (4/5)\u001b[K\rremote: Compressing objects: 100% (5/5)\u001b[K\rremote: Compressing objects: 100% (5/5), done.\u001b[K\n",
      "remote: Total 9 (delta 0), reused 9 (delta 0), pack-reused 0 (from 0)\u001b[K\n",
      "Unpacking objects:  11% (1/9)\rUnpacking objects:  22% (2/9)\rUnpacking objects:  33% (3/9)\rUnpacking objects:  44% (4/9)\rUnpacking objects:  55% (5/9)\rUnpacking objects:  66% (6/9)\rUnpacking objects:  77% (7/9)\rUnpacking objects:  88% (8/9)\rUnpacking objects: 100% (9/9)\rUnpacking objects: 100% (9/9), 724 bytes | 362.00 KiB/s, done.\n",
      "From https://github.com/LJThao/atlas-gan\n",
      " * branch            main       -> FETCH_HEAD\n",
      " * [new branch]      main       -> origin/main\n",
      "\u001b[KSuccessfully rebased and updated refs/heads/main.\n"
     ]
    }
   ],
   "source": [
    "!git pull origin main --rebase"
   ]
  },
  {
   "cell_type": "code",
   "execution_count": null,
   "metadata": {
    "colab": {
     "base_uri": "https://localhost:8080/"
    },
    "executionInfo": {
     "elapsed": 16963,
     "status": "ok",
     "timestamp": 1741233293675,
     "user": {
      "displayName": "Yengfong Thao",
      "userId": "13613316813674662303"
     },
     "user_tz": 360
    },
    "id": "zoc1RfQFlz8T",
    "outputId": "bc423c1b-7258-4e51-90cf-98ba80e4a840"
   },
   "outputs": [
    {
     "name": "stdout",
     "output_type": "stream",
     "text": [
      "Enumerating objects: 102, done.\n",
      "Counting objects:   0% (1/102)\rCounting objects:   1% (2/102)\rCounting objects:   2% (3/102)\rCounting objects:   3% (4/102)\rCounting objects:   4% (5/102)\rCounting objects:   5% (6/102)\rCounting objects:   6% (7/102)\rCounting objects:   7% (8/102)\rCounting objects:   8% (9/102)\rCounting objects:   9% (10/102)\rCounting objects:  10% (11/102)\rCounting objects:  11% (12/102)\rCounting objects:  12% (13/102)\rCounting objects:  13% (14/102)\rCounting objects:  14% (15/102)\rCounting objects:  15% (16/102)\rCounting objects:  16% (17/102)\rCounting objects:  17% (18/102)\rCounting objects:  18% (19/102)\rCounting objects:  19% (20/102)\rCounting objects:  20% (21/102)\rCounting objects:  21% (22/102)\rCounting objects:  22% (23/102)\rCounting objects:  23% (24/102)\rCounting objects:  24% (25/102)\rCounting objects:  25% (26/102)\rCounting objects:  26% (27/102)\rCounting objects:  27% (28/102)\rCounting objects:  28% (29/102)\rCounting objects:  29% (30/102)\rCounting objects:  30% (31/102)\rCounting objects:  31% (32/102)\rCounting objects:  32% (33/102)\rCounting objects:  33% (34/102)\rCounting objects:  34% (35/102)\rCounting objects:  35% (36/102)\rCounting objects:  36% (37/102)\rCounting objects:  37% (38/102)\rCounting objects:  38% (39/102)\rCounting objects:  39% (40/102)\rCounting objects:  40% (41/102)\rCounting objects:  41% (42/102)\rCounting objects:  42% (43/102)\rCounting objects:  43% (44/102)\rCounting objects:  44% (45/102)\rCounting objects:  45% (46/102)\rCounting objects:  46% (47/102)\rCounting objects:  47% (48/102)\rCounting objects:  48% (49/102)\rCounting objects:  49% (50/102)\rCounting objects:  50% (51/102)\rCounting objects:  51% (53/102)\rCounting objects:  52% (54/102)\rCounting objects:  53% (55/102)\rCounting objects:  54% (56/102)\rCounting objects:  55% (57/102)\rCounting objects:  56% (58/102)\rCounting objects:  57% (59/102)\rCounting objects:  58% (60/102)\rCounting objects:  59% (61/102)\rCounting objects:  60% (62/102)\rCounting objects:  61% (63/102)\rCounting objects:  62% (64/102)\rCounting objects:  63% (65/102)\rCounting objects:  64% (66/102)\rCounting objects:  65% (67/102)\rCounting objects:  66% (68/102)\rCounting objects:  67% (69/102)\rCounting objects:  68% (70/102)\rCounting objects:  69% (71/102)\rCounting objects:  70% (72/102)\rCounting objects:  71% (73/102)\rCounting objects:  72% (74/102)\rCounting objects:  73% (75/102)\rCounting objects:  74% (76/102)\rCounting objects:  75% (77/102)\rCounting objects:  76% (78/102)\rCounting objects:  77% (79/102)\rCounting objects:  78% (80/102)\rCounting objects:  79% (81/102)\rCounting objects:  80% (82/102)\rCounting objects:  81% (83/102)\rCounting objects:  82% (84/102)\rCounting objects:  83% (85/102)\rCounting objects:  84% (86/102)\rCounting objects:  85% (87/102)\rCounting objects:  86% (88/102)\rCounting objects:  87% (89/102)\rCounting objects:  88% (90/102)\rCounting objects:  89% (91/102)\rCounting objects:  90% (92/102)\rCounting objects:  91% (93/102)\rCounting objects:  92% (94/102)\rCounting objects:  93% (95/102)\rCounting objects:  94% (96/102)\rCounting objects:  95% (97/102)\rCounting objects:  96% (98/102)\rCounting objects:  97% (99/102)\rCounting objects:  98% (100/102)\rCounting objects:  99% (101/102)\rCounting objects: 100% (102/102)\rCounting objects: 100% (102/102), done.\n",
      "Delta compression using up to 2 threads\n",
      "Compressing objects: 100% (96/96), done.\n",
      "Writing objects: 100% (100/100), 67.48 MiB | 8.56 MiB/s, done.\n",
      "Total 100 (delta 22), reused 0 (delta 0), pack-reused 0\n",
      "remote: Resolving deltas: 100% (22/22), completed with 1 local object.\u001b[K\n",
      "To https://github.com/LJThao/atlas-gan.git\n",
      "   c6f489a..ceeb480  main -> main\n"
     ]
    }
   ],
   "source": [
    "!git push origin main\n"
   ]
  },
  {
   "cell_type": "code",
   "execution_count": null,
   "metadata": {
    "colab": {
     "base_uri": "https://localhost:8080/"
    },
    "executionInfo": {
     "elapsed": 2173,
     "status": "ok",
     "timestamp": 1741239782099,
     "user": {
      "displayName": "Yengfong Thao",
      "userId": "13613316813674662303"
     },
     "user_tz": 360
    },
    "id": "3wmGrb2MrEfi",
    "outputId": "4c500299-15fc-4ee9-d2bf-71819cf70f55"
   },
   "outputs": [
    {
     "name": "stdout",
     "output_type": "stream",
     "text": [
      "Requirement already satisfied: wandb in /usr/local/lib/python3.11/dist-packages (0.19.8)\n",
      "Requirement already satisfied: click!=8.0.0,>=7.1 in /usr/local/lib/python3.11/dist-packages (from wandb) (8.1.8)\n",
      "Requirement already satisfied: docker-pycreds>=0.4.0 in /usr/local/lib/python3.11/dist-packages (from wandb) (0.4.0)\n",
      "Requirement already satisfied: gitpython!=3.1.29,>=1.0.0 in /usr/local/lib/python3.11/dist-packages (from wandb) (3.1.44)\n",
      "Requirement already satisfied: platformdirs in /usr/local/lib/python3.11/dist-packages (from wandb) (4.3.6)\n",
      "Requirement already satisfied: protobuf!=4.21.0,!=5.28.0,<6,>=3.19.0 in /usr/local/lib/python3.11/dist-packages (from wandb) (4.25.6)\n",
      "Requirement already satisfied: psutil>=5.0.0 in /usr/local/lib/python3.11/dist-packages (from wandb) (5.9.5)\n",
      "Requirement already satisfied: pydantic<3,>=2.6 in /usr/local/lib/python3.11/dist-packages (from wandb) (2.10.6)\n",
      "Requirement already satisfied: pyyaml in /usr/local/lib/python3.11/dist-packages (from wandb) (6.0.2)\n",
      "Requirement already satisfied: requests<3,>=2.0.0 in /usr/local/lib/python3.11/dist-packages (from wandb) (2.32.3)\n",
      "Requirement already satisfied: sentry-sdk>=2.0.0 in /usr/local/lib/python3.11/dist-packages (from wandb) (2.22.0)\n",
      "Requirement already satisfied: setproctitle in /usr/local/lib/python3.11/dist-packages (from wandb) (1.3.5)\n",
      "Requirement already satisfied: setuptools in /usr/local/lib/python3.11/dist-packages (from wandb) (75.1.0)\n",
      "Requirement already satisfied: typing-extensions<5,>=4.4 in /usr/local/lib/python3.11/dist-packages (from wandb) (4.12.2)\n",
      "Requirement already satisfied: six>=1.4.0 in /usr/local/lib/python3.11/dist-packages (from docker-pycreds>=0.4.0->wandb) (1.17.0)\n",
      "Requirement already satisfied: gitdb<5,>=4.0.1 in /usr/local/lib/python3.11/dist-packages (from gitpython!=3.1.29,>=1.0.0->wandb) (4.0.12)\n",
      "Requirement already satisfied: annotated-types>=0.6.0 in /usr/local/lib/python3.11/dist-packages (from pydantic<3,>=2.6->wandb) (0.7.0)\n",
      "Requirement already satisfied: pydantic-core==2.27.2 in /usr/local/lib/python3.11/dist-packages (from pydantic<3,>=2.6->wandb) (2.27.2)\n",
      "Requirement already satisfied: charset-normalizer<4,>=2 in /usr/local/lib/python3.11/dist-packages (from requests<3,>=2.0.0->wandb) (3.4.1)\n",
      "Requirement already satisfied: idna<4,>=2.5 in /usr/local/lib/python3.11/dist-packages (from requests<3,>=2.0.0->wandb) (3.10)\n",
      "Requirement already satisfied: urllib3<3,>=1.21.1 in /usr/local/lib/python3.11/dist-packages (from requests<3,>=2.0.0->wandb) (2.3.0)\n",
      "Requirement already satisfied: certifi>=2017.4.17 in /usr/local/lib/python3.11/dist-packages (from requests<3,>=2.0.0->wandb) (2025.1.31)\n",
      "Requirement already satisfied: smmap<6,>=3.0.1 in /usr/local/lib/python3.11/dist-packages (from gitdb<5,>=4.0.1->gitpython!=3.1.29,>=1.0.0->wandb) (5.0.2)\n"
     ]
    },
    {
     "data": {
      "text/plain": [
       "True"
      ]
     },
     "execution_count": 21,
     "metadata": {},
     "output_type": "execute_result"
    }
   ],
   "source": [
    "!pip install wandb\n",
    "import wandb\n",
    "wandb.login()\n"
   ]
  },
  {
   "cell_type": "code",
   "execution_count": null,
   "metadata": {
    "colab": {
     "base_uri": "https://localhost:8080/"
    },
    "executionInfo": {
     "elapsed": 14,
     "status": "ok",
     "timestamp": 1741235207502,
     "user": {
      "displayName": "Yengfong Thao",
      "userId": "13613316813674662303"
     },
     "user_tz": 360
    },
    "id": "8lDXN8D8sdNY",
    "outputId": "d68768f8-1d30-4ed5-9de4-f534ae7c46c5"
   },
   "outputs": [
    {
     "name": "stdout",
     "output_type": "stream",
     "text": [
      "/content/root/atlas-gan\n"
     ]
    }
   ],
   "source": [
    "cd /content/root/atlas-gan\n"
   ]
  },
  {
   "cell_type": "code",
   "execution_count": null,
   "metadata": {
    "colab": {
     "base_uri": "https://localhost:8080/"
    },
    "executionInfo": {
     "elapsed": 48,
     "status": "ok",
     "timestamp": 1741240039119,
     "user": {
      "displayName": "Yengfong Thao",
      "userId": "13613316813674662303"
     },
     "user_tz": 360
    },
    "id": "Aa0eIQfV_XJD",
    "outputId": "5d58c0b0-5360-425a-b434-615f51546401"
   },
   "outputs": [
    {
     "data": {
      "text/plain": [
       "True"
      ]
     },
     "execution_count": 27,
     "metadata": {},
     "output_type": "execute_result"
    }
   ],
   "source": [
    "import wandb\n",
    "wandb.login()\n",
    "\n"
   ]
  },
  {
   "cell_type": "code",
   "execution_count": null,
   "metadata": {
    "colab": {
     "base_uri": "https://localhost:8080/"
    },
    "executionInfo": {
     "elapsed": 20959,
     "status": "ok",
     "timestamp": 1741240135845,
     "user": {
      "displayName": "Yengfong Thao",
      "userId": "13613316813674662303"
     },
     "user_tz": 360
    },
    "id": "bqa9N_G7_sIH",
    "outputId": "ecc9e52a-9ba3-454e-fdaf-a6fa31225a28"
   },
   "outputs": [
    {
     "name": "stdout",
     "output_type": "stream",
     "text": [
      "\u001b[34m\u001b[1mwandb\u001b[0m: Logging into wandb.ai. (Learn how to deploy a W&B server locally: https://wandb.me/wandb-server)\n",
      "\u001b[34m\u001b[1mwandb\u001b[0m: You can find your API key in your browser here: https://wandb.ai/authorize\n",
      "\u001b[34m\u001b[1mwandb\u001b[0m: Paste an API key from your profile and hit enter, or press ctrl+c to quit: \n",
      "\u001b[34m\u001b[1mwandb\u001b[0m: Appending key for api.wandb.ai to your netrc file: /root/.netrc\n",
      "\u001b[34m\u001b[1mwandb\u001b[0m: W&B API key is configured. Use \u001b[1m`wandb login --relogin`\u001b[0m to force relogin\n"
     ]
    }
   ],
   "source": [
    "!wandb login --relogin\n"
   ]
  },
  {
   "cell_type": "code",
   "execution_count": null,
   "metadata": {
    "colab": {
     "base_uri": "https://localhost:8080/"
    },
    "executionInfo": {
     "elapsed": 1324,
     "status": "ok",
     "timestamp": 1741240223198,
     "user": {
      "displayName": "Yengfong Thao",
      "userId": "13613316813674662303"
     },
     "user_tz": 360
    },
    "id": "aInL86kDAS7U",
    "outputId": "91fd34db-1fbc-4161-960e-573a012dc1b2"
   },
   "outputs": [
    {
     "name": "stdout",
     "output_type": "stream",
     "text": [
      "Name: wandb\n",
      "Version: 0.19.8\n",
      "Summary: A CLI and library for interacting with the Weights & Biases API.\n",
      "Home-page: \n",
      "Author: \n",
      "Author-email: Weights & Biases <support@wandb.com>\n",
      "License: MIT License\n",
      "\n",
      "Copyright (c) 2021 Weights and Biases, Inc.\n",
      "\n",
      "Permission is hereby granted, free of charge, to any person obtaining a copy\n",
      "of this software and associated documentation files (the \"Software\"), to deal\n",
      "in the Software without restriction, including without limitation the rights\n",
      "to use, copy, modify, merge, publish, distribute, sublicense, and/or sell\n",
      "copies of the Software, and to permit persons to whom the Software is\n",
      "furnished to do so, subject to the following conditions:\n",
      "\n",
      "The above copyright notice and this permission notice shall be included in all\n",
      "copies or substantial portions of the Software.\n",
      "\n",
      "THE SOFTWARE IS PROVIDED \"AS IS\", WITHOUT WARRANTY OF ANY KIND, EXPRESS OR\n",
      "IMPLIED, INCLUDING BUT NOT LIMITED TO THE WARRANTIES OF MERCHANTABILITY,\n",
      "FITNESS FOR A PARTICULAR PURPOSE AND NONINFRINGEMENT. IN NO EVENT SHALL THE\n",
      "AUTHORS OR COPYRIGHT HOLDERS BE LIABLE FOR ANY CLAIM, DAMAGES OR OTHER\n",
      "LIABILITY, WHETHER IN AN ACTION OF CONTRACT, TORT OR OTHERWISE, ARISING FROM,\n",
      "OUT OF OR IN CONNECTION WITH THE SOFTWARE OR THE USE OR OTHER DEALINGS IN THE\n",
      "SOFTWARE.\n",
      "Location: /usr/local/lib/python3.11/dist-packages\n",
      "Requires: click, docker-pycreds, gitpython, platformdirs, protobuf, psutil, pydantic, pyyaml, requests, sentry-sdk, setproctitle, setuptools, typing-extensions\n",
      "Required-by: \n"
     ]
    }
   ],
   "source": [
    "!pip show wandb"
   ]
  },
  {
   "cell_type": "code",
   "execution_count": null,
   "metadata": {
    "colab": {
     "base_uri": "https://localhost:8080/"
    },
    "executionInfo": {
     "elapsed": 8,
     "status": "ok",
     "timestamp": 1741244790075,
     "user": {
      "displayName": "Yengfong Thao",
      "userId": "13613316813674662303"
     },
     "user_tz": 360
    },
    "id": "pyV3EGqCRpKp",
    "outputId": "4199c1ac-e9f5-41ca-fd0f-d1b54d643298"
   },
   "outputs": [
    {
     "name": "stdout",
     "output_type": "stream",
     "text": [
      "/content/root/atlas-gan\n"
     ]
    }
   ],
   "source": [
    "%cd /content/root/atlas-gan\n"
   ]
  },
  {
   "cell_type": "code",
   "execution_count": null,
   "metadata": {
    "colab": {
     "base_uri": "https://localhost:8080/"
    },
    "executionInfo": {
     "elapsed": 404,
     "status": "ok",
     "timestamp": 1741244831595,
     "user": {
      "displayName": "Yengfong Thao",
      "userId": "13613316813674662303"
     },
     "user_tz": 360
    },
    "id": "plwS1tndRvyQ",
    "outputId": "7cb81d42-27f4-48ef-f53f-db54f6c39332"
   },
   "outputs": [
    {
     "name": "stdout",
     "output_type": "stream",
     "text": [
      "On branch main\n",
      "Untracked files:\n",
      "  (use \"git add <file>...\" to include in what will be committed)\n",
      "\t\u001b[31mdcgan/dcgan_wandb/\u001b[m\n",
      "\n",
      "nothing added to commit but untracked files present (use \"git add\" to track)\n"
     ]
    }
   ],
   "source": [
    "!git status\n"
   ]
  },
  {
   "cell_type": "code",
   "execution_count": null,
   "metadata": {
    "id": "yEI4XtNHR9Cr"
   },
   "outputs": [],
   "source": [
    "!git add .\n"
   ]
  },
  {
   "cell_type": "code",
   "execution_count": null,
   "metadata": {
    "colab": {
     "base_uri": "https://localhost:8080/"
    },
    "executionInfo": {
     "elapsed": 112,
     "status": "ok",
     "timestamp": 1741244915168,
     "user": {
      "displayName": "Yengfong Thao",
      "userId": "13613316813674662303"
     },
     "user_tz": 360
    },
    "id": "yRhE5mEMSLpo",
    "outputId": "5778811e-2225-4fef-c711-256bf1f681db"
   },
   "outputs": [
    {
     "name": "stdout",
     "output_type": "stream",
     "text": [
      "[main f613e96] Add dcgan_wandb\n",
      " 23 files changed, 0 insertions(+), 0 deletions(-)\n",
      " create mode 100644 dcgan/dcgan_wandb/generated_images_wandb/wandb_epoch_10.png\n",
      " create mode 100644 dcgan/dcgan_wandb/generated_images_wandb/wandb_epoch_15.png\n",
      " create mode 100644 dcgan/dcgan_wandb/generated_images_wandb/wandb_epoch_20.png\n",
      " create mode 100644 dcgan/dcgan_wandb/generated_images_wandb/wandb_epoch_25.png\n",
      " create mode 100644 dcgan/dcgan_wandb/generated_images_wandb/wandb_epoch_30.png\n",
      " create mode 100644 dcgan/dcgan_wandb/generated_images_wandb/wandb_epoch_35.png\n",
      " create mode 100644 dcgan/dcgan_wandb/generated_images_wandb/wandb_epoch_40.png\n",
      " create mode 100644 dcgan/dcgan_wandb/generated_images_wandb/wandb_epoch_45.png\n",
      " create mode 100644 dcgan/dcgan_wandb/generated_images_wandb/wandb_epoch_5.png\n",
      " create mode 100644 dcgan/dcgan_wandb/generated_images_wandb/wandb_epoch_50.png\n",
      " create mode 100644 dcgan/dcgan_wandb/wandb_dcgan_model.h5\n",
      " create mode 100644 dcgan/dcgan_wandb/wandb_discriminator_epoch_10.h5\n",
      " create mode 100644 dcgan/dcgan_wandb/wandb_discriminator_epoch_20.h5\n",
      " create mode 100644 dcgan/dcgan_wandb/wandb_discriminator_epoch_30.h5\n",
      " create mode 100644 dcgan/dcgan_wandb/wandb_discriminator_epoch_40.h5\n",
      " create mode 100644 dcgan/dcgan_wandb/wandb_discriminator_epoch_50.h5\n",
      " create mode 100644 dcgan/dcgan_wandb/wandb_discriminator_final.h5\n",
      " create mode 100644 dcgan/dcgan_wandb/wandb_generator_epoch_10.h5\n",
      " create mode 100644 dcgan/dcgan_wandb/wandb_generator_epoch_20.h5\n",
      " create mode 100644 dcgan/dcgan_wandb/wandb_generator_epoch_30.h5\n",
      " create mode 100644 dcgan/dcgan_wandb/wandb_generator_epoch_40.h5\n",
      " create mode 100644 dcgan/dcgan_wandb/wandb_generator_epoch_50.h5\n",
      " create mode 100644 dcgan/dcgan_wandb/wandb_generator_final.h5\n"
     ]
    }
   ],
   "source": [
    "!git commit -m \"Add dcgan_wandb\"\n"
   ]
  },
  {
   "cell_type": "code",
   "execution_count": null,
   "metadata": {
    "colab": {
     "base_uri": "https://localhost:8080/"
    },
    "executionInfo": {
     "elapsed": 418,
     "status": "ok",
     "timestamp": 1741244923438,
     "user": {
      "displayName": "Yengfong Thao",
      "userId": "13613316813674662303"
     },
     "user_tz": 360
    },
    "id": "TCiV5eVZSPOx",
    "outputId": "3bc55ff3-4754-4f39-a826-7190056674f7"
   },
   "outputs": [
    {
     "name": "stdout",
     "output_type": "stream",
     "text": [
      "To https://github.com/LJThao/atlas-gan.git\n",
      " \u001b[31m! [rejected]       \u001b[m main -> main (non-fast-forward)\n",
      "\u001b[31merror: failed to push some refs to 'https://github.com/LJThao/atlas-gan.git'\n",
      "\u001b[m\u001b[33mhint: Updates were rejected because the tip of your current branch is behind\u001b[m\n",
      "\u001b[33mhint: its remote counterpart. Integrate the remote changes (e.g.\u001b[m\n",
      "\u001b[33mhint: 'git pull ...') before pushing again.\u001b[m\n",
      "\u001b[33mhint: See the 'Note about fast-forwards' in 'git push --help' for details.\u001b[m\n"
     ]
    }
   ],
   "source": [
    "!git push origin main"
   ]
  },
  {
   "cell_type": "code",
   "execution_count": null,
   "metadata": {
    "id": "MWQho1S8SW7Z"
   },
   "outputs": [],
   "source": [
    "!git fetch origin\n"
   ]
  },
  {
   "cell_type": "code",
   "execution_count": null,
   "metadata": {
    "colab": {
     "base_uri": "https://localhost:8080/"
    },
    "executionInfo": {
     "elapsed": 809,
     "status": "ok",
     "timestamp": 1741244964187,
     "user": {
      "displayName": "Yengfong Thao",
      "userId": "13613316813674662303"
     },
     "user_tz": 360
    },
    "id": "ECSaTkJISZCp",
    "outputId": "3c2e4364-eb5c-408d-f1ef-d3e0f79aa264"
   },
   "outputs": [
    {
     "name": "stdout",
     "output_type": "stream",
     "text": [
      "From https://github.com/LJThao/atlas-gan\n",
      " * branch            main       -> FETCH_HEAD\n",
      "\u001b[KSuccessfully rebased and updated refs/heads/main.\n"
     ]
    }
   ],
   "source": [
    "!git pull origin main --rebase\n"
   ]
  },
  {
   "cell_type": "code",
   "execution_count": null,
   "metadata": {
    "colab": {
     "base_uri": "https://localhost:8080/"
    },
    "executionInfo": {
     "elapsed": 8453,
     "status": "ok",
     "timestamp": 1741244977866,
     "user": {
      "displayName": "Yengfong Thao",
      "userId": "13613316813674662303"
     },
     "user_tz": 360
    },
    "id": "jHBu60WMSaks",
    "outputId": "eff63f6a-3b1b-400b-f005-df9e5c9ea46b"
   },
   "outputs": [
    {
     "name": "stdout",
     "output_type": "stream",
     "text": [
      "Enumerating objects: 28, done.\n",
      "Counting objects:   3% (1/28)\rCounting objects:   7% (2/28)\rCounting objects:  10% (3/28)\rCounting objects:  14% (4/28)\rCounting objects:  17% (5/28)\rCounting objects:  21% (6/28)\rCounting objects:  25% (7/28)\rCounting objects:  28% (8/28)\rCounting objects:  32% (9/28)\rCounting objects:  35% (10/28)\rCounting objects:  39% (11/28)\rCounting objects:  42% (12/28)\rCounting objects:  46% (13/28)\rCounting objects:  50% (14/28)\rCounting objects:  53% (15/28)\rCounting objects:  57% (16/28)\rCounting objects:  60% (17/28)\rCounting objects:  64% (18/28)\rCounting objects:  67% (19/28)\rCounting objects:  71% (20/28)\rCounting objects:  75% (21/28)\rCounting objects:  78% (22/28)\rCounting objects:  82% (23/28)\rCounting objects:  85% (24/28)\rCounting objects:  89% (25/28)\rCounting objects:  92% (26/28)\rCounting objects:  96% (27/28)\rCounting objects: 100% (28/28)\rCounting objects: 100% (28/28), done.\n",
      "Delta compression using up to 2 threads\n",
      "Compressing objects: 100% (26/26), done.\n",
      "Writing objects: 100% (26/26), 37.14 MiB | 10.43 MiB/s, done.\n",
      "Total 26 (delta 4), reused 0 (delta 0), pack-reused 0\n",
      "remote: Resolving deltas: 100% (4/4), completed with 2 local objects.\u001b[K\n",
      "To https://github.com/LJThao/atlas-gan.git\n",
      "   f0fce11..62f35c9  main -> main\n"
     ]
    }
   ],
   "source": [
    "!git push origin main\n"
   ]
  },
  {
   "cell_type": "code",
   "execution_count": null,
   "metadata": {
    "colab": {
     "base_uri": "https://localhost:8080/"
    },
    "executionInfo": {
     "elapsed": 9643,
     "status": "ok",
     "timestamp": 1741376898573,
     "user": {
      "displayName": "Yengfong Thao",
      "userId": "13613316813674662303"
     },
     "user_tz": 360
    },
    "id": "UT34jko_0lFz",
    "outputId": "94681651-00fb-4615-80a8-a0d482b347d5"
   },
   "outputs": [
    {
     "name": "stdout",
     "output_type": "stream",
     "text": [
      "Cloning into 'atlas-gan'...\n",
      "remote: Enumerating objects: 165, done.\u001b[K\n",
      "remote: Total 165 (delta 0), reused 0 (delta 0), pack-reused 165 (from 1)\u001b[K\n",
      "Receiving objects: 100% (165/165), 104.62 MiB | 14.99 MiB/s, done.\n",
      "Resolving deltas: 100% (43/43), done.\n"
     ]
    }
   ],
   "source": [
    "!git clone https://github.com/LJThao/atlas-gan.git"
   ]
  },
  {
   "cell_type": "code",
   "execution_count": null,
   "metadata": {
    "colab": {
     "base_uri": "https://localhost:8080/"
    },
    "executionInfo": {
     "elapsed": 18,
     "status": "ok",
     "timestamp": 1741377271741,
     "user": {
      "displayName": "Yengfong Thao",
      "userId": "13613316813674662303"
     },
     "user_tz": 360
    },
    "id": "EyCP8CujKbR5",
    "outputId": "77a0730e-b59e-4959-8ef7-f4ba44609aaf"
   },
   "outputs": [
    {
     "name": "stdout",
     "output_type": "stream",
     "text": [
      "/content/atlas-gan/dcgan\n"
     ]
    }
   ],
   "source": [
    "%cd /content/atlas-gan/dcgan/"
   ]
  },
  {
   "cell_type": "code",
   "execution_count": null,
   "metadata": {
    "colab": {
     "base_uri": "https://localhost:8080/"
    },
    "executionInfo": {
     "elapsed": 20,
     "status": "ok",
     "timestamp": 1741378157775,
     "user": {
      "displayName": "Yengfong Thao",
      "userId": "13613316813674662303"
     },
     "user_tz": 360
    },
    "id": "qSCg8j9OLIAo",
    "outputId": "b9356fbb-c1a8-4663-8273-894dfb1fe917"
   },
   "outputs": [
    {
     "name": "stdout",
     "output_type": "stream",
     "text": [
      "/content/atlas-gan/dcgan/utils\n"
     ]
    }
   ],
   "source": [
    "%cd utils/"
   ]
  },
  {
   "cell_type": "code",
   "execution_count": null,
   "metadata": {
    "colab": {
     "base_uri": "https://localhost:8080/",
     "height": 627
    },
    "executionInfo": {
     "elapsed": 32158,
     "status": "ok",
     "timestamp": 1741378309050,
     "user": {
      "displayName": "Yengfong Thao",
      "userId": "13613316813674662303"
     },
     "user_tz": 360
    },
    "id": "QpSMhrmmOrA4",
    "outputId": "4098d1c0-b10a-45f7-ccdc-efdc666f7be9"
   },
   "outputs": [
    {
     "name": "stdout",
     "output_type": "stream",
     "text": [
      "Requirement already satisfied: wandb in /usr/local/lib/python3.11/dist-packages (0.19.7)\n",
      "Requirement already satisfied: click!=8.0.0,>=7.1 in /usr/local/lib/python3.11/dist-packages (from wandb) (8.1.8)\n",
      "Requirement already satisfied: docker-pycreds>=0.4.0 in /usr/local/lib/python3.11/dist-packages (from wandb) (0.4.0)\n",
      "Requirement already satisfied: gitpython!=3.1.29,>=1.0.0 in /usr/local/lib/python3.11/dist-packages (from wandb) (3.1.44)\n",
      "Requirement already satisfied: platformdirs in /usr/local/lib/python3.11/dist-packages (from wandb) (4.3.6)\n",
      "Requirement already satisfied: protobuf!=4.21.0,!=5.28.0,<6,>=3.19.0 in /usr/local/lib/python3.11/dist-packages (from wandb) (4.25.6)\n",
      "Requirement already satisfied: psutil>=5.0.0 in /usr/local/lib/python3.11/dist-packages (from wandb) (5.9.5)\n",
      "Requirement already satisfied: pydantic<3,>=2.6 in /usr/local/lib/python3.11/dist-packages (from wandb) (2.10.6)\n",
      "Requirement already satisfied: pyyaml in /usr/local/lib/python3.11/dist-packages (from wandb) (6.0.2)\n",
      "Requirement already satisfied: requests<3,>=2.0.0 in /usr/local/lib/python3.11/dist-packages (from wandb) (2.32.3)\n",
      "Requirement already satisfied: sentry-sdk>=2.0.0 in /usr/local/lib/python3.11/dist-packages (from wandb) (2.22.0)\n",
      "Requirement already satisfied: setproctitle in /usr/local/lib/python3.11/dist-packages (from wandb) (1.3.5)\n",
      "Requirement already satisfied: setuptools in /usr/local/lib/python3.11/dist-packages (from wandb) (75.1.0)\n",
      "Requirement already satisfied: typing-extensions<5,>=4.4 in /usr/local/lib/python3.11/dist-packages (from wandb) (4.12.2)\n",
      "Requirement already satisfied: six>=1.4.0 in /usr/local/lib/python3.11/dist-packages (from docker-pycreds>=0.4.0->wandb) (1.17.0)\n",
      "Requirement already satisfied: gitdb<5,>=4.0.1 in /usr/local/lib/python3.11/dist-packages (from gitpython!=3.1.29,>=1.0.0->wandb) (4.0.12)\n",
      "Requirement already satisfied: annotated-types>=0.6.0 in /usr/local/lib/python3.11/dist-packages (from pydantic<3,>=2.6->wandb) (0.7.0)\n",
      "Requirement already satisfied: pydantic-core==2.27.2 in /usr/local/lib/python3.11/dist-packages (from pydantic<3,>=2.6->wandb) (2.27.2)\n",
      "Requirement already satisfied: charset-normalizer<4,>=2 in /usr/local/lib/python3.11/dist-packages (from requests<3,>=2.0.0->wandb) (3.4.1)\n",
      "Requirement already satisfied: idna<4,>=2.5 in /usr/local/lib/python3.11/dist-packages (from requests<3,>=2.0.0->wandb) (3.10)\n",
      "Requirement already satisfied: urllib3<3,>=1.21.1 in /usr/local/lib/python3.11/dist-packages (from requests<3,>=2.0.0->wandb) (2.3.0)\n",
      "Requirement already satisfied: certifi>=2017.4.17 in /usr/local/lib/python3.11/dist-packages (from requests<3,>=2.0.0->wandb) (2025.1.31)\n",
      "Requirement already satisfied: smmap<6,>=3.0.1 in /usr/local/lib/python3.11/dist-packages (from gitdb<5,>=4.0.1->gitpython!=3.1.29,>=1.0.0->wandb) (5.0.2)\n"
     ]
    },
    {
     "name": "stderr",
     "output_type": "stream",
     "text": [
      "\u001b[34m\u001b[1mwandb\u001b[0m: Using wandb-core as the SDK backend.  Please refer to https://wandb.me/wandb-core for more information.\n"
     ]
    },
    {
     "data": {
      "application/javascript": "\n        window._wandbApiKey = new Promise((resolve, reject) => {\n            function loadScript(url) {\n            return new Promise(function(resolve, reject) {\n                let newScript = document.createElement(\"script\");\n                newScript.onerror = reject;\n                newScript.onload = resolve;\n                document.body.appendChild(newScript);\n                newScript.src = url;\n            });\n            }\n            loadScript(\"https://cdn.jsdelivr.net/npm/postmate/build/postmate.min.js\").then(() => {\n            const iframe = document.createElement('iframe')\n            iframe.style.cssText = \"width:0;height:0;border:none\"\n            document.body.appendChild(iframe)\n            const handshake = new Postmate({\n                container: iframe,\n                url: 'https://wandb.ai/authorize'\n            });\n            const timeout = setTimeout(() => reject(\"Couldn't auto authenticate\"), 5000)\n            handshake.then(function(child) {\n                child.on('authorize', data => {\n                    clearTimeout(timeout)\n                    resolve(data)\n                });\n            });\n            })\n        });\n    ",
      "text/plain": [
       "<IPython.core.display.Javascript object>"
      ]
     },
     "metadata": {},
     "output_type": "display_data"
    },
    {
     "name": "stderr",
     "output_type": "stream",
     "text": [
      "\u001b[34m\u001b[1mwandb\u001b[0m: Logging into wandb.ai. (Learn how to deploy a W&B server locally: https://wandb.me/wandb-server)\n",
      "\u001b[34m\u001b[1mwandb\u001b[0m: You can find your API key in your browser here: https://wandb.ai/authorize\n",
      "wandb: Paste an API key from your profile and hit enter:"
     ]
    },
    {
     "name": "stdout",
     "output_type": "stream",
     "text": [
      " ··········\n"
     ]
    },
    {
     "name": "stderr",
     "output_type": "stream",
     "text": [
      "\u001b[34m\u001b[1mwandb\u001b[0m: \u001b[33mWARNING\u001b[0m If you're specifying your api key in code, ensure this code is not shared publicly.\n",
      "\u001b[34m\u001b[1mwandb\u001b[0m: \u001b[33mWARNING\u001b[0m Consider setting the WANDB_API_KEY environment variable, or running `wandb login` from the command line.\n",
      "\u001b[34m\u001b[1mwandb\u001b[0m: No netrc file found, creating one.\n",
      "\u001b[34m\u001b[1mwandb\u001b[0m: Appending key for api.wandb.ai to your netrc file: /root/.netrc\n",
      "\u001b[34m\u001b[1mwandb\u001b[0m: Currently logged in as: \u001b[33mljthao\u001b[0m (\u001b[33mljthao25\u001b[0m) to \u001b[32mhttps://api.wandb.ai\u001b[0m. Use \u001b[1m`wandb login --relogin`\u001b[0m to force relogin\n"
     ]
    },
    {
     "data": {
      "text/plain": [
       "True"
      ]
     },
     "execution_count": 11,
     "metadata": {},
     "output_type": "execute_result"
    }
   ],
   "source": [
    "!pip install wandb\n",
    "import wandb\n",
    "wandb.login()"
   ]
  },
  {
   "cell_type": "code",
   "execution_count": null,
   "metadata": {
    "colab": {
     "base_uri": "https://localhost:8080/"
    },
    "executionInfo": {
     "elapsed": 98,
     "status": "ok",
     "timestamp": 1741378715896,
     "user": {
      "displayName": "Yengfong Thao",
      "userId": "13613316813674662303"
     },
     "user_tz": 360
    },
    "id": "QKavcTbWPNP5",
    "outputId": "5c9b5033-5c17-4e69-9e8d-c8e4982e01da"
   },
   "outputs": [
    {
     "name": "stdout",
     "output_type": "stream",
     "text": [
      "images_wandb  models_wandb  wandb_training.py\n"
     ]
    }
   ],
   "source": [
    "!ls"
   ]
  },
  {
   "cell_type": "code",
   "execution_count": null,
   "metadata": {
    "colab": {
     "base_uri": "https://localhost:8080/"
    },
    "executionInfo": {
     "elapsed": 23097,
     "status": "ok",
     "timestamp": 1741379245190,
     "user": {
      "displayName": "Yengfong Thao",
      "userId": "13613316813674662303"
     },
     "user_tz": 360
    },
    "id": "fhMWTFrtQpBj",
    "outputId": "023483e0-b9a7-4bbf-a7d7-e7b49bf6ac2f"
   },
   "outputs": [
    {
     "name": "stdout",
     "output_type": "stream",
     "text": [
      "2025-03-07 20:26:59.669674: E external/local_xla/xla/stream_executor/cuda/cuda_fft.cc:477] Unable to register cuFFT factory: Attempting to register factory for plugin cuFFT when one has already been registered\n",
      "WARNING: All log messages before absl::InitializeLog() is called are written to STDERR\n",
      "E0000 00:00:1741379219.691530   11244 cuda_dnn.cc:8310] Unable to register cuDNN factory: Attempting to register factory for plugin cuDNN when one has already been registered\n",
      "E0000 00:00:1741379219.698257   11244 cuda_blas.cc:1418] Unable to register cuBLAS factory: Attempting to register factory for plugin cuBLAS when one has already been registered\n",
      "2025-03-07 20:26:59.719390: I tensorflow/core/platform/cpu_feature_guard.cc:210] This TensorFlow binary is optimized to use available CPU instructions in performance-critical operations.\n",
      "To enable the following instructions: AVX2 AVX512F FMA, in other operations, rebuild TensorFlow with the appropriate compiler flags.\n",
      "Starting logging for base...\n",
      "\u001b[34m\u001b[1mwandb\u001b[0m: Currently logged in as: \u001b[33mljthao\u001b[0m (\u001b[33mljthao25\u001b[0m) to \u001b[32mhttps://api.wandb.ai\u001b[0m. Use \u001b[1m`wandb login --relogin`\u001b[0m to force relogin\n",
      "\u001b[34m\u001b[1mwandb\u001b[0m: Tracking run with wandb version 0.19.7\n",
      "\u001b[34m\u001b[1mwandb\u001b[0m: Run data is saved locally in \u001b[35m\u001b[1m/content/atlas-gan/dcgan/utils/wandb/run-20250307_202703-8cqzgcup\u001b[0m\n",
      "\u001b[34m\u001b[1mwandb\u001b[0m: Run \u001b[1m`wandb offline`\u001b[0m to turn off syncing.\n",
      "\u001b[34m\u001b[1mwandb\u001b[0m: Syncing run \u001b[33mbase\u001b[0m\n",
      "\u001b[34m\u001b[1mwandb\u001b[0m: ⭐️ View project at \u001b[34m\u001b[4mhttps://wandb.ai/ljthao25/dcgan-project\u001b[0m\n",
      "\u001b[34m\u001b[1mwandb\u001b[0m: 🚀 View run at \u001b[34m\u001b[4mhttps://wandb.ai/ljthao25/dcgan-project/runs/8cqzgcup\u001b[0m\n",
      "Checking logs at: /content/atlas-gan/advanced_gan/dcgan/base/logs/training_log.csv\n",
      "Checking images at: /content/atlas-gan/advanced_gan/dcgan/base/images\n",
      "Found model files: []\n",
      "\u001b[34m\u001b[1mwandb\u001b[0m: \u001b[38;5;178m⢿\u001b[0m uploading requirements.txt 11.3KB/11.3KB (0.7s)\n",
      "\u001b[34m\u001b[1mwandb\u001b[0m: \u001b[38;5;178m⢿\u001b[0m uploading output.log 175B/175B (0.1s)\n",
      "\u001b[34m\u001b[1mwandb\u001b[0m: \u001b[38;5;178m⢿\u001b[0m uploading wandb-summary.json 24B/24B (0.1s)\n",
      "\u001b[34m\u001b[1mwandb\u001b[0m: \u001b[38;5;178m⣻\u001b[0m uploading requirements.txt 11.3KB/11.3KB (0.7s)\n",
      "\u001b[34m\u001b[1mwandb\u001b[0m: \u001b[38;5;178m⣻\u001b[0m uploading output.log 175B/175B (0.1s)\n",
      "\u001b[34m\u001b[1mwandb\u001b[0m: \u001b[38;5;178m⣻\u001b[0m uploading wandb-summary.json 24B/24B (0.1s)\n",
      "\u001b[34m\u001b[1mwandb\u001b[0m: \u001b[38;5;178m⣽\u001b[0m uploading requirements.txt 11.3KB/11.3KB (0.7s)\n",
      "\u001b[34m\u001b[1mwandb\u001b[0m: \u001b[38;5;178m⣽\u001b[0m uploading output.log 175B/175B (0.1s)\n",
      "\u001b[34m\u001b[1mwandb\u001b[0m: \u001b[38;5;178m⣽\u001b[0m uploading wandb-summary.json 24B/24B (0.1s)\n",
      "\u001b[34m\u001b[1mwandb\u001b[0m: \u001b[38;5;178m⣾\u001b[0m uploading requirements.txt 11.3KB/11.3KB (0.7s)\n",
      "\u001b[34m\u001b[1mwandb\u001b[0m: \u001b[38;5;178m⣾\u001b[0m uploading output.log 175B/175B (0.1s)\n",
      "\u001b[34m\u001b[1mwandb\u001b[0m: \u001b[38;5;178m⣾\u001b[0m uploading wandb-summary.json 24B/24B (0.1s)\n",
      "\u001b[34m\u001b[1mwandb\u001b[0m: \u001b[38;5;178m⣷\u001b[0m uploading requirements.txt 11.3KB/11.3KB (0.7s)\n",
      "\u001b[34m\u001b[1mwandb\u001b[0m: \u001b[38;5;178m⣷\u001b[0m uploading output.log 175B/175B (0.1s)\n",
      "\u001b[34m\u001b[1mwandb\u001b[0m: \u001b[38;5;178m⣷\u001b[0m uploading wandb-summary.json 24B/24B (0.1s)\n",
      "\u001b[34m\u001b[1mwandb\u001b[0m: \u001b[38;5;178m⣯\u001b[0m uploading requirements.txt 11.3KB/11.3KB (0.7s)\n",
      "\u001b[34m\u001b[1mwandb\u001b[0m: \u001b[38;5;178m⣯\u001b[0m uploading output.log 175B/175B (0.1s)\n",
      "\u001b[34m\u001b[1mwandb\u001b[0m: \u001b[38;5;178m⣯\u001b[0m uploading wandb-summary.json 24B/24B (0.1s)\n",
      "\u001b[34m\u001b[1mwandb\u001b[0m: \u001b[38;5;178m⣟\u001b[0m uploading requirements.txt 11.3KB/11.3KB (0.7s)\n",
      "\u001b[34m\u001b[1mwandb\u001b[0m: \u001b[38;5;178m⣟\u001b[0m uploading output.log 175B/175B (0.1s)\n",
      "\u001b[34m\u001b[1mwandb\u001b[0m: \u001b[38;5;178m⣟\u001b[0m uploading wandb-summary.json 24B/24B (0.1s)\n",
      "\u001b[34m\u001b[1mwandb\u001b[0m: \u001b[38;5;178m⡿\u001b[0m uploading requirements.txt 11.3KB/11.3KB (0.7s)\n",
      "\u001b[34m\u001b[1mwandb\u001b[0m: \u001b[38;5;178m⡿\u001b[0m uploading output.log 175B/175B (0.1s)\n",
      "\u001b[34m\u001b[1mwandb\u001b[0m: \u001b[38;5;178m⡿\u001b[0m uploading wandb-summary.json 24B/24B (0.1s)\n",
      "\u001b[34m\u001b[1mwandb\u001b[0m: \u001b[38;5;178m⢿\u001b[0m uploading requirements.txt 11.3KB/11.3KB (0.7s)\n",
      "\u001b[34m\u001b[1mwandb\u001b[0m: \u001b[38;5;178m⢿\u001b[0m uploading output.log 175B/175B (0.1s)\n",
      "\u001b[34m\u001b[1mwandb\u001b[0m: \u001b[38;5;178m⢿\u001b[0m uploading wandb-summary.json 24B/24B (0.1s)\n",
      "\u001b[34m\u001b[1mwandb\u001b[0m: \u001b[38;5;178m⣻\u001b[0m uploading output.log 175B/175B (1.1s)\n",
      "\u001b[34m\u001b[1mwandb\u001b[0m: \u001b[38;5;178m⣻\u001b[0m uploading config.yaml 814B/814B (0.9s)\n",
      "\u001b[34m\u001b[1mwandb\u001b[0m: \u001b[38;5;178m⣽\u001b[0m uploading output.log 175B/175B (1.1s)\n",
      "\u001b[34m\u001b[1mwandb\u001b[0m: \u001b[38;5;178m⣽\u001b[0m uploading config.yaml 814B/814B (0.9s)\n",
      "\u001b[34m\u001b[1mwandb\u001b[0m: \u001b[38;5;178m⣾\u001b[0m uploading output.log 175B/175B (1.1s)\n",
      "\u001b[34m\u001b[1mwandb\u001b[0m: \u001b[38;5;178m⣾\u001b[0m uploading config.yaml 814B/814B (0.9s)\n",
      "\u001b[34m\u001b[1mwandb\u001b[0m: \u001b[38;5;178m⣷\u001b[0m uploading output.log 175B/175B (1.1s)\n",
      "\u001b[34m\u001b[1mwandb\u001b[0m: \u001b[38;5;178m⣷\u001b[0m uploading config.yaml 814B/814B (0.9s)\n",
      "\u001b[34m\u001b[1mwandb\u001b[0m:                                                                                \n",
      "\u001b[34m\u001b[1mwandb\u001b[0m: \u001b[38;5;178m⣷\u001b[0m uploading output.log 175B/175B (1.1s)\n",
      "\u001b[34m\u001b[1mwandb\u001b[0m: \u001b[38;5;178m⣷\u001b[0m uploading config.yaml 814B/814B (0.9s)\n",
      "\u001b[34m\u001b[1mwandb\u001b[0m: 🚀 View run \u001b[33mbase\u001b[0m at: \u001b[34m\u001b[4mhttps://wandb.ai/ljthao25/dcgan-project/runs/8cqzgcup\u001b[0m\n",
      "\u001b[34m\u001b[1mwandb\u001b[0m: ⭐️ View project at: \u001b[34m\u001b[4mhttps://wandb.ai/ljthao25/dcgan-project\u001b[0m\n",
      "\u001b[34m\u001b[1mwandb\u001b[0m: Synced 5 W&B file(s), 0 media file(s), 0 artifact file(s) and 0 other file(s)\n",
      "\u001b[34m\u001b[1mwandb\u001b[0m: Find logs at: \u001b[35m\u001b[1m./wandb/run-20250307_202703-8cqzgcup/logs\u001b[0m\n",
      "Finished logging for base ✅\n",
      "\n",
      "Starting logging for exp1...\n",
      "\u001b[34m\u001b[1mwandb\u001b[0m: Tracking run with wandb version 0.19.7\n",
      "\u001b[34m\u001b[1mwandb\u001b[0m: Run data is saved locally in \u001b[35m\u001b[1m/content/atlas-gan/dcgan/utils/wandb/run-20250307_202707-b8csrjez\u001b[0m\n",
      "\u001b[34m\u001b[1mwandb\u001b[0m: Run \u001b[1m`wandb offline`\u001b[0m to turn off syncing.\n",
      "\u001b[34m\u001b[1mwandb\u001b[0m: Syncing run \u001b[33mexp1\u001b[0m\n",
      "\u001b[34m\u001b[1mwandb\u001b[0m: ⭐️ View project at \u001b[34m\u001b[4mhttps://wandb.ai/ljthao25/dcgan-project\u001b[0m\n",
      "\u001b[34m\u001b[1mwandb\u001b[0m: 🚀 View run at \u001b[34m\u001b[4mhttps://wandb.ai/ljthao25/dcgan-project/runs/b8csrjez\u001b[0m\n",
      "Checking logs at: /content/atlas-gan/advanced_gan/dcgan/exp1/logs/training_log.csv\n",
      "Checking images at: /content/atlas-gan/advanced_gan/dcgan/exp1/images\n",
      "Found model files: []\n",
      "\u001b[34m\u001b[1mwandb\u001b[0m: \u001b[38;5;178m⢿\u001b[0m uploading requirements.txt 11.3KB/11.3KB (0.7s)\n",
      "\u001b[34m\u001b[1mwandb\u001b[0m: \u001b[38;5;178m⢿\u001b[0m uploading output.log 175B/175B (0.2s)\n",
      "\u001b[34m\u001b[1mwandb\u001b[0m: \u001b[38;5;178m⢿\u001b[0m uploading wandb-summary.json 24B/24B (0.2s)\n",
      "\u001b[34m\u001b[1mwandb\u001b[0m: \u001b[38;5;178m⣻\u001b[0m uploading requirements.txt 11.3KB/11.3KB (0.7s)\n",
      "\u001b[34m\u001b[1mwandb\u001b[0m: \u001b[38;5;178m⣻\u001b[0m uploading output.log 175B/175B (0.2s)\n",
      "\u001b[34m\u001b[1mwandb\u001b[0m: \u001b[38;5;178m⣻\u001b[0m uploading wandb-summary.json 24B/24B (0.2s)\n",
      "\u001b[34m\u001b[1mwandb\u001b[0m: \u001b[38;5;178m⣽\u001b[0m uploading requirements.txt 11.3KB/11.3KB (0.7s)\n",
      "\u001b[34m\u001b[1mwandb\u001b[0m: \u001b[38;5;178m⣽\u001b[0m uploading output.log 175B/175B (0.2s)\n",
      "\u001b[34m\u001b[1mwandb\u001b[0m: \u001b[38;5;178m⣽\u001b[0m uploading wandb-summary.json 24B/24B (0.2s)\n",
      "\u001b[34m\u001b[1mwandb\u001b[0m: \u001b[38;5;178m⣾\u001b[0m uploading requirements.txt 11.3KB/11.3KB (0.7s)\n",
      "\u001b[34m\u001b[1mwandb\u001b[0m: \u001b[38;5;178m⣾\u001b[0m uploading output.log 175B/175B (0.2s)\n",
      "\u001b[34m\u001b[1mwandb\u001b[0m: \u001b[38;5;178m⣾\u001b[0m uploading wandb-summary.json 24B/24B (0.2s)\n",
      "\u001b[34m\u001b[1mwandb\u001b[0m: \u001b[38;5;178m⣷\u001b[0m uploading requirements.txt 11.3KB/11.3KB (0.7s)\n",
      "\u001b[34m\u001b[1mwandb\u001b[0m: \u001b[38;5;178m⣷\u001b[0m uploading output.log 175B/175B (0.2s)\n",
      "\u001b[34m\u001b[1mwandb\u001b[0m: \u001b[38;5;178m⣷\u001b[0m uploading wandb-summary.json 24B/24B (0.2s)\n",
      "\u001b[34m\u001b[1mwandb\u001b[0m: \u001b[38;5;178m⣯\u001b[0m uploading requirements.txt 11.3KB/11.3KB (0.7s)\n",
      "\u001b[34m\u001b[1mwandb\u001b[0m: \u001b[38;5;178m⣯\u001b[0m uploading output.log 175B/175B (0.2s)\n",
      "\u001b[34m\u001b[1mwandb\u001b[0m: \u001b[38;5;178m⣯\u001b[0m uploading wandb-summary.json 24B/24B (0.2s)\n",
      "\u001b[34m\u001b[1mwandb\u001b[0m: \u001b[38;5;178m⣟\u001b[0m uploading requirements.txt 11.3KB/11.3KB (0.7s)\n",
      "\u001b[34m\u001b[1mwandb\u001b[0m: \u001b[38;5;178m⣟\u001b[0m uploading output.log 175B/175B (0.2s)\n",
      "\u001b[34m\u001b[1mwandb\u001b[0m: \u001b[38;5;178m⣟\u001b[0m uploading wandb-summary.json 24B/24B (0.2s)\n",
      "\u001b[34m\u001b[1mwandb\u001b[0m: \u001b[38;5;178m⡿\u001b[0m uploading requirements.txt 11.3KB/11.3KB (0.7s)\n",
      "\u001b[34m\u001b[1mwandb\u001b[0m: \u001b[38;5;178m⡿\u001b[0m uploading output.log 175B/175B (0.2s)\n",
      "\u001b[34m\u001b[1mwandb\u001b[0m: \u001b[38;5;178m⡿\u001b[0m uploading wandb-summary.json 24B/24B (0.2s)\n",
      "\u001b[34m\u001b[1mwandb\u001b[0m: \u001b[38;5;178m⢿\u001b[0m uploading requirements.txt 11.3KB/11.3KB (0.7s)\n",
      "\u001b[34m\u001b[1mwandb\u001b[0m: \u001b[38;5;178m⢿\u001b[0m uploading output.log 175B/175B (0.2s)\n",
      "\u001b[34m\u001b[1mwandb\u001b[0m: \u001b[38;5;178m⢿\u001b[0m uploading wandb-summary.json 24B/24B (0.2s)\n",
      "\u001b[34m\u001b[1mwandb\u001b[0m: \u001b[38;5;178m⣻\u001b[0m uploading output.log 175B/175B (1.2s)\n",
      "\u001b[34m\u001b[1mwandb\u001b[0m: \u001b[38;5;178m⣻\u001b[0m uploading config.yaml 814B/814B (0.9s)\n",
      "\u001b[34m\u001b[1mwandb\u001b[0m: \u001b[38;5;178m⣽\u001b[0m uploading output.log 175B/175B (1.2s)\n",
      "\u001b[34m\u001b[1mwandb\u001b[0m: \u001b[38;5;178m⣽\u001b[0m uploading config.yaml 814B/814B (0.9s)\n",
      "\u001b[34m\u001b[1mwandb\u001b[0m: \u001b[38;5;178m⣾\u001b[0m uploading output.log 175B/175B (1.2s)\n",
      "\u001b[34m\u001b[1mwandb\u001b[0m: \u001b[38;5;178m⣾\u001b[0m uploading config.yaml 814B/814B (0.9s)\n",
      "\u001b[34m\u001b[1mwandb\u001b[0m: \u001b[38;5;178m⣷\u001b[0m uploading output.log 175B/175B (1.2s)\n",
      "\u001b[34m\u001b[1mwandb\u001b[0m: \u001b[38;5;178m⣷\u001b[0m uploading config.yaml 814B/814B (0.9s)\n",
      "\u001b[34m\u001b[1mwandb\u001b[0m:                                                                                \n",
      "\u001b[34m\u001b[1mwandb\u001b[0m: \u001b[38;5;178m⣷\u001b[0m uploading output.log 175B/175B (1.2s)\n",
      "\u001b[34m\u001b[1mwandb\u001b[0m: \u001b[38;5;178m⣷\u001b[0m uploading config.yaml 814B/814B (0.9s)\n",
      "\u001b[34m\u001b[1mwandb\u001b[0m: 🚀 View run \u001b[33mexp1\u001b[0m at: \u001b[34m\u001b[4mhttps://wandb.ai/ljthao25/dcgan-project/runs/b8csrjez\u001b[0m\n",
      "\u001b[34m\u001b[1mwandb\u001b[0m: ⭐️ View project at: \u001b[34m\u001b[4mhttps://wandb.ai/ljthao25/dcgan-project\u001b[0m\n",
      "\u001b[34m\u001b[1mwandb\u001b[0m: Synced 5 W&B file(s), 0 media file(s), 0 artifact file(s) and 0 other file(s)\n",
      "\u001b[34m\u001b[1mwandb\u001b[0m: Find logs at: \u001b[35m\u001b[1m./wandb/run-20250307_202707-b8csrjez/logs\u001b[0m\n",
      "Finished logging for exp1 ✅\n",
      "\n",
      "Starting logging for exp2...\n",
      "\u001b[34m\u001b[1mwandb\u001b[0m: Tracking run with wandb version 0.19.7\n",
      "\u001b[34m\u001b[1mwandb\u001b[0m: Run data is saved locally in \u001b[35m\u001b[1m/content/atlas-gan/dcgan/utils/wandb/run-20250307_202711-tlx8vg9m\u001b[0m\n",
      "\u001b[34m\u001b[1mwandb\u001b[0m: Run \u001b[1m`wandb offline`\u001b[0m to turn off syncing.\n",
      "\u001b[34m\u001b[1mwandb\u001b[0m: Syncing run \u001b[33mexp2\u001b[0m\n",
      "\u001b[34m\u001b[1mwandb\u001b[0m: ⭐️ View project at \u001b[34m\u001b[4mhttps://wandb.ai/ljthao25/dcgan-project\u001b[0m\n",
      "\u001b[34m\u001b[1mwandb\u001b[0m: 🚀 View run at \u001b[34m\u001b[4mhttps://wandb.ai/ljthao25/dcgan-project/runs/tlx8vg9m\u001b[0m\n",
      "Checking logs at: /content/atlas-gan/advanced_gan/dcgan/exp2/logs/training_log.csv\n",
      "Checking images at: /content/atlas-gan/advanced_gan/dcgan/exp2/images\n",
      "Found model files: []\n",
      "\u001b[34m\u001b[1mwandb\u001b[0m: \u001b[38;5;178m⢿\u001b[0m uploading requirements.txt 11.3KB/11.3KB (0.7s)\n",
      "\u001b[34m\u001b[1mwandb\u001b[0m: \u001b[38;5;178m⢿\u001b[0m uploading output.log 175B/175B (0.2s)\n",
      "\u001b[34m\u001b[1mwandb\u001b[0m: \u001b[38;5;178m⢿\u001b[0m uploading wandb-summary.json 24B/24B (0.2s)\n",
      "\u001b[34m\u001b[1mwandb\u001b[0m: \u001b[38;5;178m⣻\u001b[0m uploading requirements.txt 11.3KB/11.3KB (0.7s)\n",
      "\u001b[34m\u001b[1mwandb\u001b[0m: \u001b[38;5;178m⣻\u001b[0m uploading output.log 175B/175B (0.2s)\n",
      "\u001b[34m\u001b[1mwandb\u001b[0m: \u001b[38;5;178m⣻\u001b[0m uploading wandb-summary.json 24B/24B (0.2s)\n",
      "\u001b[34m\u001b[1mwandb\u001b[0m: \u001b[38;5;178m⣽\u001b[0m uploading requirements.txt 11.3KB/11.3KB (0.7s)\n",
      "\u001b[34m\u001b[1mwandb\u001b[0m: \u001b[38;5;178m⣽\u001b[0m uploading output.log 175B/175B (0.2s)\n",
      "\u001b[34m\u001b[1mwandb\u001b[0m: \u001b[38;5;178m⣽\u001b[0m uploading wandb-summary.json 24B/24B (0.2s)\n",
      "\u001b[34m\u001b[1mwandb\u001b[0m: \u001b[38;5;178m⣾\u001b[0m uploading requirements.txt 11.3KB/11.3KB (0.7s)\n",
      "\u001b[34m\u001b[1mwandb\u001b[0m: \u001b[38;5;178m⣾\u001b[0m uploading output.log 175B/175B (0.2s)\n",
      "\u001b[34m\u001b[1mwandb\u001b[0m: \u001b[38;5;178m⣾\u001b[0m uploading wandb-summary.json 24B/24B (0.2s)\n",
      "\u001b[34m\u001b[1mwandb\u001b[0m: \u001b[38;5;178m⣷\u001b[0m uploading requirements.txt 11.3KB/11.3KB (0.7s)\n",
      "\u001b[34m\u001b[1mwandb\u001b[0m: \u001b[38;5;178m⣷\u001b[0m uploading output.log 175B/175B (0.2s)\n",
      "\u001b[34m\u001b[1mwandb\u001b[0m: \u001b[38;5;178m⣷\u001b[0m uploading wandb-summary.json 24B/24B (0.2s)\n",
      "\u001b[34m\u001b[1mwandb\u001b[0m: \u001b[38;5;178m⣯\u001b[0m uploading requirements.txt 11.3KB/11.3KB (0.7s)\n",
      "\u001b[34m\u001b[1mwandb\u001b[0m: \u001b[38;5;178m⣯\u001b[0m uploading output.log 175B/175B (0.2s)\n",
      "\u001b[34m\u001b[1mwandb\u001b[0m: \u001b[38;5;178m⣯\u001b[0m uploading wandb-summary.json 24B/24B (0.2s)\n",
      "\u001b[34m\u001b[1mwandb\u001b[0m: \u001b[38;5;178m⣟\u001b[0m uploading requirements.txt 11.3KB/11.3KB (0.7s)\n",
      "\u001b[34m\u001b[1mwandb\u001b[0m: \u001b[38;5;178m⣟\u001b[0m uploading output.log 175B/175B (0.2s)\n",
      "\u001b[34m\u001b[1mwandb\u001b[0m: \u001b[38;5;178m⣟\u001b[0m uploading wandb-summary.json 24B/24B (0.2s)\n",
      "\u001b[34m\u001b[1mwandb\u001b[0m: \u001b[38;5;178m⡿\u001b[0m uploading requirements.txt 11.3KB/11.3KB (0.7s)\n",
      "\u001b[34m\u001b[1mwandb\u001b[0m: \u001b[38;5;178m⡿\u001b[0m uploading output.log 175B/175B (0.2s)\n",
      "\u001b[34m\u001b[1mwandb\u001b[0m: \u001b[38;5;178m⡿\u001b[0m uploading wandb-summary.json 24B/24B (0.2s)\n",
      "\u001b[34m\u001b[1mwandb\u001b[0m: \u001b[38;5;178m⢿\u001b[0m uploading requirements.txt 11.3KB/11.3KB (0.7s)\n",
      "\u001b[34m\u001b[1mwandb\u001b[0m: \u001b[38;5;178m⢿\u001b[0m uploading output.log 175B/175B (0.2s)\n",
      "\u001b[34m\u001b[1mwandb\u001b[0m: \u001b[38;5;178m⢿\u001b[0m uploading wandb-summary.json 24B/24B (0.2s)\n",
      "\u001b[34m\u001b[1mwandb\u001b[0m: \u001b[38;5;178m⣻\u001b[0m uploading output.log 175B/175B (1.2s)\n",
      "\u001b[34m\u001b[1mwandb\u001b[0m: \u001b[38;5;178m⣻\u001b[0m uploading config.yaml 814B/814B (1.0s)\n",
      "\u001b[34m\u001b[1mwandb\u001b[0m: \u001b[38;5;178m⣽\u001b[0m uploading output.log 175B/175B (1.2s)\n",
      "\u001b[34m\u001b[1mwandb\u001b[0m: \u001b[38;5;178m⣽\u001b[0m uploading config.yaml 814B/814B (1.0s)\n",
      "\u001b[34m\u001b[1mwandb\u001b[0m: \u001b[38;5;178m⣾\u001b[0m uploading output.log 175B/175B (1.2s)\n",
      "\u001b[34m\u001b[1mwandb\u001b[0m: \u001b[38;5;178m⣾\u001b[0m uploading config.yaml 814B/814B (1.0s)\n",
      "\u001b[34m\u001b[1mwandb\u001b[0m:                                                                                \n",
      "\u001b[34m\u001b[1mwandb\u001b[0m: \u001b[38;5;178m⣾\u001b[0m uploading output.log 175B/175B (1.2s)\n",
      "\u001b[34m\u001b[1mwandb\u001b[0m: \u001b[38;5;178m⣾\u001b[0m uploading config.yaml 814B/814B (1.0s)\n",
      "\u001b[34m\u001b[1mwandb\u001b[0m: 🚀 View run \u001b[33mexp2\u001b[0m at: \u001b[34m\u001b[4mhttps://wandb.ai/ljthao25/dcgan-project/runs/tlx8vg9m\u001b[0m\n",
      "\u001b[34m\u001b[1mwandb\u001b[0m: ⭐️ View project at: \u001b[34m\u001b[4mhttps://wandb.ai/ljthao25/dcgan-project\u001b[0m\n",
      "\u001b[34m\u001b[1mwandb\u001b[0m: Synced 5 W&B file(s), 0 media file(s), 0 artifact file(s) and 0 other file(s)\n",
      "\u001b[34m\u001b[1mwandb\u001b[0m: Find logs at: \u001b[35m\u001b[1m./wandb/run-20250307_202711-tlx8vg9m/logs\u001b[0m\n",
      "Finished logging for exp2 ✅\n",
      "\n",
      "Starting logging for exp3...\n",
      "\u001b[34m\u001b[1mwandb\u001b[0m: Tracking run with wandb version 0.19.7\n",
      "\u001b[34m\u001b[1mwandb\u001b[0m: Run data is saved locally in \u001b[35m\u001b[1m/content/atlas-gan/dcgan/utils/wandb/run-20250307_202716-ydvuxo1l\u001b[0m\n",
      "\u001b[34m\u001b[1mwandb\u001b[0m: Run \u001b[1m`wandb offline`\u001b[0m to turn off syncing.\n",
      "\u001b[34m\u001b[1mwandb\u001b[0m: Syncing run \u001b[33mexp3\u001b[0m\n",
      "\u001b[34m\u001b[1mwandb\u001b[0m: ⭐️ View project at \u001b[34m\u001b[4mhttps://wandb.ai/ljthao25/dcgan-project\u001b[0m\n",
      "\u001b[34m\u001b[1mwandb\u001b[0m: 🚀 View run at \u001b[34m\u001b[4mhttps://wandb.ai/ljthao25/dcgan-project/runs/ydvuxo1l\u001b[0m\n",
      "Checking logs at: /content/atlas-gan/advanced_gan/dcgan/exp3/logs/training_log.csv\n",
      "Checking images at: /content/atlas-gan/advanced_gan/dcgan/exp3/images\n",
      "Found model files: []\n",
      "\u001b[34m\u001b[1mwandb\u001b[0m: \u001b[38;5;178m⢿\u001b[0m uploading requirements.txt 11.3KB/11.3KB (0.7s)\n",
      "\u001b[34m\u001b[1mwandb\u001b[0m: \u001b[38;5;178m⢿\u001b[0m uploading output.log 175B/175B (0.2s)\n",
      "\u001b[34m\u001b[1mwandb\u001b[0m: \u001b[38;5;178m⢿\u001b[0m uploading wandb-summary.json 24B/24B (0.2s)\n",
      "\u001b[34m\u001b[1mwandb\u001b[0m: \u001b[38;5;178m⣻\u001b[0m uploading requirements.txt 11.3KB/11.3KB (0.7s)\n",
      "\u001b[34m\u001b[1mwandb\u001b[0m: \u001b[38;5;178m⣻\u001b[0m uploading output.log 175B/175B (0.2s)\n",
      "\u001b[34m\u001b[1mwandb\u001b[0m: \u001b[38;5;178m⣻\u001b[0m uploading wandb-summary.json 24B/24B (0.2s)\n",
      "\u001b[34m\u001b[1mwandb\u001b[0m: \u001b[38;5;178m⣽\u001b[0m uploading requirements.txt 11.3KB/11.3KB (0.7s)\n",
      "\u001b[34m\u001b[1mwandb\u001b[0m: \u001b[38;5;178m⣽\u001b[0m uploading output.log 175B/175B (0.2s)\n",
      "\u001b[34m\u001b[1mwandb\u001b[0m: \u001b[38;5;178m⣽\u001b[0m uploading wandb-summary.json 24B/24B (0.2s)\n",
      "\u001b[34m\u001b[1mwandb\u001b[0m: \u001b[38;5;178m⣾\u001b[0m uploading requirements.txt 11.3KB/11.3KB (0.7s)\n",
      "\u001b[34m\u001b[1mwandb\u001b[0m: \u001b[38;5;178m⣾\u001b[0m uploading output.log 175B/175B (0.2s)\n",
      "\u001b[34m\u001b[1mwandb\u001b[0m: \u001b[38;5;178m⣾\u001b[0m uploading wandb-summary.json 24B/24B (0.2s)\n",
      "\u001b[34m\u001b[1mwandb\u001b[0m: \u001b[38;5;178m⣷\u001b[0m uploading requirements.txt 11.3KB/11.3KB (0.7s)\n",
      "\u001b[34m\u001b[1mwandb\u001b[0m: \u001b[38;5;178m⣷\u001b[0m uploading output.log 175B/175B (0.2s)\n",
      "\u001b[34m\u001b[1mwandb\u001b[0m: \u001b[38;5;178m⣷\u001b[0m uploading wandb-summary.json 24B/24B (0.2s)\n",
      "\u001b[34m\u001b[1mwandb\u001b[0m: \u001b[38;5;178m⣯\u001b[0m uploading requirements.txt 11.3KB/11.3KB (0.7s)\n",
      "\u001b[34m\u001b[1mwandb\u001b[0m: \u001b[38;5;178m⣯\u001b[0m uploading output.log 175B/175B (0.2s)\n",
      "\u001b[34m\u001b[1mwandb\u001b[0m: \u001b[38;5;178m⣯\u001b[0m uploading wandb-summary.json 24B/24B (0.2s)\n",
      "\u001b[34m\u001b[1mwandb\u001b[0m: \u001b[38;5;178m⣟\u001b[0m uploading requirements.txt 11.3KB/11.3KB (0.7s)\n",
      "\u001b[34m\u001b[1mwandb\u001b[0m: \u001b[38;5;178m⣟\u001b[0m uploading output.log 175B/175B (0.2s)\n",
      "\u001b[34m\u001b[1mwandb\u001b[0m: \u001b[38;5;178m⣟\u001b[0m uploading wandb-summary.json 24B/24B (0.2s)\n",
      "\u001b[34m\u001b[1mwandb\u001b[0m: \u001b[38;5;178m⡿\u001b[0m uploading requirements.txt 11.3KB/11.3KB (0.7s)\n",
      "\u001b[34m\u001b[1mwandb\u001b[0m: \u001b[38;5;178m⡿\u001b[0m uploading output.log 175B/175B (0.2s)\n",
      "\u001b[34m\u001b[1mwandb\u001b[0m: \u001b[38;5;178m⡿\u001b[0m uploading wandb-summary.json 24B/24B (0.2s)\n",
      "\u001b[34m\u001b[1mwandb\u001b[0m: \u001b[38;5;178m⢿\u001b[0m uploading requirements.txt 11.3KB/11.3KB (0.7s)\n",
      "\u001b[34m\u001b[1mwandb\u001b[0m: \u001b[38;5;178m⢿\u001b[0m uploading output.log 175B/175B (0.2s)\n",
      "\u001b[34m\u001b[1mwandb\u001b[0m: \u001b[38;5;178m⢿\u001b[0m uploading wandb-summary.json 24B/24B (0.2s)\n",
      "\u001b[34m\u001b[1mwandb\u001b[0m: \u001b[38;5;178m⣻\u001b[0m uploading wandb-summary.json 24B/24B (1.2s)\n",
      "\u001b[34m\u001b[1mwandb\u001b[0m: \u001b[38;5;178m⣻\u001b[0m uploading config.yaml 814B/814B (0.9s)\n",
      "\u001b[34m\u001b[1mwandb\u001b[0m: \u001b[38;5;178m⣽\u001b[0m uploading wandb-summary.json 24B/24B (1.2s)\n",
      "\u001b[34m\u001b[1mwandb\u001b[0m: \u001b[38;5;178m⣽\u001b[0m uploading config.yaml 814B/814B (0.9s)\n",
      "\u001b[34m\u001b[1mwandb\u001b[0m: \u001b[38;5;178m⣾\u001b[0m uploading wandb-summary.json 24B/24B (1.2s)\n",
      "\u001b[34m\u001b[1mwandb\u001b[0m: \u001b[38;5;178m⣾\u001b[0m uploading config.yaml 814B/814B (0.9s)\n",
      "\u001b[34m\u001b[1mwandb\u001b[0m: \u001b[38;5;178m⣷\u001b[0m uploading wandb-summary.json 24B/24B (1.2s)\n",
      "\u001b[34m\u001b[1mwandb\u001b[0m: \u001b[38;5;178m⣷\u001b[0m uploading config.yaml 814B/814B (0.9s)\n",
      "\u001b[34m\u001b[1mwandb\u001b[0m:                                                                                \n",
      "\u001b[34m\u001b[1mwandb\u001b[0m: \u001b[38;5;178m⣷\u001b[0m uploading wandb-summary.json 24B/24B (1.2s)\n",
      "\u001b[34m\u001b[1mwandb\u001b[0m: \u001b[38;5;178m⣷\u001b[0m uploading config.yaml 814B/814B (0.9s)\n",
      "\u001b[34m\u001b[1mwandb\u001b[0m: 🚀 View run \u001b[33mexp3\u001b[0m at: \u001b[34m\u001b[4mhttps://wandb.ai/ljthao25/dcgan-project/runs/ydvuxo1l\u001b[0m\n",
      "\u001b[34m\u001b[1mwandb\u001b[0m: ⭐️ View project at: \u001b[34m\u001b[4mhttps://wandb.ai/ljthao25/dcgan-project\u001b[0m\n",
      "\u001b[34m\u001b[1mwandb\u001b[0m: Synced 5 W&B file(s), 0 media file(s), 0 artifact file(s) and 0 other file(s)\n",
      "\u001b[34m\u001b[1mwandb\u001b[0m: Find logs at: \u001b[35m\u001b[1m./wandb/run-20250307_202716-ydvuxo1l/logs\u001b[0m\n",
      "Finished logging for exp3 ✅\n",
      "\n",
      "✅ All experiments logged successfully!\n"
     ]
    }
   ],
   "source": [
    "!python wandb_training.py"
   ]
  },
  {
   "cell_type": "code",
   "execution_count": 18,
   "metadata": {
    "colab": {
     "base_uri": "https://localhost:8080/"
    },
    "executionInfo": {
     "elapsed": 115,
     "status": "ok",
     "timestamp": 1741411899250,
     "user": {
      "displayName": "Yengfong Thao",
      "userId": "13613316813674662303"
     },
     "user_tz": 360
    },
    "id": "934JUjlvOC_l",
    "outputId": "7ccbe8bb-bb48-4d15-c6a2-0907e1c372cc"
   },
   "outputs": [
    {
     "name": "stdout",
     "output_type": "stream",
     "text": [
      "/content/atlas-gan/dcgan\n"
     ]
    }
   ],
   "source": [
    "!pw\n"
   ]
  }
 ],
 "metadata": {
  "accelerator": "GPU",
  "colab": {
   "authorship_tag": "ABX9TyOklmfWDy3An9iH9KhJ0CgG",
   "gpuType": "T4",
   "mount_file_id": "16bKpd9LionI2pAjuO8Oia9TvMu1MZORG",
   "provenance": []
  },
  "kernelspec": {
   "display_name": "Python 3",
   "name": "python3"
  },
  "language_info": {
   "name": "python"
  }
 },
 "nbformat": 4,
 "nbformat_minor": 0
}
